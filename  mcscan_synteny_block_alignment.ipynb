{
 "cells": [
  {
   "cell_type": "code",
   "execution_count": 1,
   "metadata": {
    "collapsed": false
   },
   "outputs": [],
   "source": [
    "from __future__ import print_function\n",
    "import pandas as pd \n",
    "import sys\n",
    "sys.path.append('/ref/pipelines/')\n",
    "import kang\n",
    "import subprocess\n",
    "import xml.etree.ElementTree as ET\n",
    "import numpy as np"
   ]
  },
  {
   "cell_type": "code",
   "execution_count": 2,
   "metadata": {
    "collapsed": true
   },
   "outputs": [],
   "source": [
    "file_kaks = './Ah2Ah.collinearity.kaks'\n",
    "\n",
    "df_kaks   = pd.read_csv(file_kaks,sep='\\t',comment='#',header=None)\n",
    "df_kaks['synteny id'] = df_kaks[0].apply(lambda x : x.split('-')[0].strip())"
   ]
  },
  {
   "cell_type": "code",
   "execution_count": 4,
   "metadata": {
    "collapsed": true
   },
   "outputs": [],
   "source": [
    "df_gff = pd.read_csv('./Ah2Ah.gff',sep='\\t',header=None)"
   ]
  },
  {
   "cell_type": "code",
   "execution_count": 5,
   "metadata": {
    "collapsed": true
   },
   "outputs": [],
   "source": [
    "df_gff_ix = df_gff.set_index(1)"
   ]
  },
  {
   "cell_type": "code",
   "execution_count": 7,
   "metadata": {
    "collapsed": false
   },
   "outputs": [],
   "source": [
    "df_kaks['posA_l'] = df_kaks[1].apply(lambda x : df_gff_ix.xs(x)[2])\n",
    "df_kaks['posB_l'] = df_kaks[2].apply(lambda x : df_gff_ix.xs(x)[2])\n",
    "df_kaks['posA_r'] = df_kaks[1].apply(lambda x : df_gff_ix.xs(x)[3])\n",
    "df_kaks['posB_r'] = df_kaks[2].apply(lambda x : df_gff_ix.xs(x)[3])\n",
    "df_kaks['chrA']   = df_kaks[1].apply(lambda x : df_gff_ix.xs(x)[0])\n",
    "df_kaks['chrB']   = df_kaks[2].apply(lambda x : df_gff_ix.xs(x)[0])"
   ]
  },
  {
   "cell_type": "code",
   "execution_count": 8,
   "metadata": {
    "collapsed": true
   },
   "outputs": [],
   "source": [
    "df_kaks_ix = df_kaks.set_index('synteny id')"
   ]
  },
  {
   "cell_type": "code",
   "execution_count": 11,
   "metadata": {
    "collapsed": false
   },
   "outputs": [],
   "source": [
    "file_fa = '/ref/References/Aha/Ahal.assembly.scf.fasta'\n",
    "dic_fa  = kang.Fasta2dic(file_fa)"
   ]
  },
  {
   "cell_type": "code",
   "execution_count": 12,
   "metadata": {
    "collapsed": false
   },
   "outputs": [],
   "source": [
    "def save_seq(name,seq):\n",
    "    outfile = 'temp.%s.fa'%name\n",
    "    with open(outfile,'w') as f:\n",
    "        print('>%s'%name,file=f)\n",
    "        print(seq,file=f)\n",
    "    return outfile"
   ]
  },
  {
   "cell_type": "code",
   "execution_count": 116,
   "metadata": {
    "collapsed": false
   },
   "outputs": [],
   "source": [
    "def get_two_blast_from_synteny(selected_sbix):\n",
    "    #selected_sbix = '336'\n",
    "    edf           = df_kaks_ix.xs(selected_sbix)\n",
    "    echrA          = edf['chrA'].values[0]\n",
    "    echrB          = edf['chrB'].values[0]\n",
    "    eposA_from    = np.min(edf['posA_l'])\n",
    "    eposA_to      = np.max(edf['posA_r'])\n",
    "    eposB_from    = np.min(edf['posB_l'])\n",
    "    eposB_to      = np.max(edf['posB_r'])\n",
    "\n",
    "    seqA = dic_fa[echrA][eposA_from:eposA_to]\n",
    "    seqB = dic_fa[echrB][eposB_from:eposB_to]\n",
    "\n",
    "    seqA_name=save_seq('%s_a'%selected_sbix,seqA)\n",
    "    seqB_name=save_seq('%s_b'%selected_sbix,seqB)\n",
    "\n",
    "    outxml = 'temp.%s.xml'%selected_sbix\n",
    "    print('cmd: blastn -query %s -subject %s -outfmt 5 -out %s'%(seqA_name,seqB_name,outxml))\n",
    "    subprocess.call('blastn -query %s -subject %s -outfmt 5 -out %s'%(seqA_name,seqB_name,outxml),shell=True)\n",
    "\n",
    "    tree = ET.parse(outxml)\n",
    "    root = tree.getroot()\n",
    "    dic = {'hitfrom':[],\n",
    "           'hitto':[]\n",
    "          }\n",
    "    with open('%s.twoblast.parsed.txt'%selected_sbix,'w') as f:\n",
    "        print ('# synteny block id : %s'%selected_sbix,file=f)\n",
    "        aligned_pos_ref = {0}\n",
    "        aligned_pos_query = {0}\n",
    "        for hsps in root.iter('Hsp'):\n",
    "            hsp_num      = hsps.find('Hsp_num').text\n",
    "            hsp_hit_from = hsps.find('Hsp_hit-from').text\n",
    "            hsp_hit_to   = hsps.find('Hsp_hit-to').text\n",
    "            hsp_query_from = hsps.find('Hsp_query-from').text\n",
    "            hsp_query_to   = hsps.find('Hsp_query-to').text\n",
    "            hsp_align_len  = hsps.find('Hsp_align-len').text\n",
    "            dic['hitfrom'].append(hsp_hit_from)\n",
    "            dic['hitto'].append(hsp_hit_to)\n",
    "            aligned_pos_ref   = aligned_pos_ref | set(range(int(hsp_hit_from),int(hsp_hit_to)))\n",
    "            aligned_pos_query = aligned_pos_query | set(range(int(hsp_query_from),int(hsp_query_to)))\n",
    "            print ('## alignment id: %s'%hsp_num,file=f)\n",
    "            print ('## alignment position query (%s) from %d to %d'%(echrA,eposA_from+int(hsp_hit_from),eposA_from+int(hsp_hit_to)),file=f)\n",
    "            print ('## alignment position ref (%s) from %d to %d'%(echrB,eposB_from+int(hsp_query_from),eposB_from+int(hsp_query_to)),file=f)\n",
    "            print ('## alignment length : %s bp'%hsp_align_len,file=f)\n",
    "            hsp_qseq = hsps.find('Hsp_qseq').text\n",
    "            hsp_hseq = hsps.find('Hsp_hseq').text\n",
    "\n",
    "            kang.seq_comp(['%s_%s'%(selected_sbix,echrB),'%s_%s'%(selected_sbix,echrA)],[hsp_hseq,hsp_qseq],f)\n",
    "        aligned_pos_ref      = aligned_pos_ref  - {0}\n",
    "        aligned_pos_query    = aligned_pos_query- {0}\n",
    "        aligned_length_ref   = len(aligned_pos_ref)\n",
    "        aligned_length_query = len(aligned_pos_query)\n",
    "        print('# ref   : %s:%s..%s (%d bp)'%(echrB,eposB_from,eposB_to,len(seqB)),file=f)\n",
    "        print('# query : %s:%s..%s (%d bp)'%(echrA,eposA_from,eposA_to,len(seqA)),file=f)\n",
    "        print('# ref_scaffold   : %s (%d bp)'%(echrB,len(dic_fa[echrB])),file=f)\n",
    "        print('# query_scaffold : %s (%d bp)'%(echrA,len(dic_fa[echrA])),file=f)\n",
    "        print('# total aligned length from ref : %d'%aligned_length_ref,file=f)\n",
    "        print('# total aligned length from query : %d'%aligned_length_query,file=f)\n",
    "        print('# ratio of aligned length to ref_length : %f'%(float(aligned_length_ref)/len(seqB)),file=f)\n",
    "        print('# ratio of aligned length to query_length : %f'%(float(aligned_length_query)/len(seqA)),file=f)\n",
    "        print('# ratio of aligned length to ref_scaffold_length : %f'%(float(aligned_length_ref)/len(dic_fa[echrB])),file=f)\n",
    "        print('# ratio of aligned length to query_scaffold_length : %f'%(float(aligned_length_query)/len(dic_fa[echrA])),file=f)\n",
    "    #subprocess.call('rm temp.*',shell=True)"
   ]
  },
  {
   "cell_type": "code",
   "execution_count": 163,
   "metadata": {
    "collapsed": true
   },
   "outputs": [],
   "source": [
    "def get_two_blast_from_two_scaffold(echrA,echrB):\n",
    "\n",
    "\n",
    "    seqA = dic_fa[echrA]\n",
    "    seqB = dic_fa[echrB]\n",
    "\n",
    "    seqA_name=save_seq('%s'%echrA,seqA)\n",
    "    seqB_name=save_seq('%s'%echrB,seqB)\n",
    "\n",
    "    outxml = 'temp.%s.%s.xml'%(echrA,echrB)\n",
    "    print('cmd: blastn -query %s -subject %s -outfmt 5 -out %s'%(seqA_name,seqB_name,outxml))\n",
    "    subprocess.call('blastn -query %s -subject %s -outfmt 5 -out %s'%(seqA_name,seqB_name,outxml),shell=True)\n",
    "\n",
    "    tree = ET.parse(outxml)\n",
    "    root = tree.getroot()\n",
    "    dic = {'hitfrom':[],\n",
    "           'hitto':[]\n",
    "          }\n",
    "    with open('%s.twoblast.parsed.txt'%(echrA+'_'+echrB),'w') as f:\n",
    "        print ('# %s and %s twoblast comparision'%(echrA,echrB),file=f)\n",
    "        aligned_pos_ref = {0}\n",
    "        aligned_pos_query = {0}\n",
    "        for hsps in root.iter('Hsp'):\n",
    "            hsp_num      = hsps.find('Hsp_num').text\n",
    "            hsp_hit_from = hsps.find('Hsp_hit-from').text\n",
    "            hsp_hit_to   = hsps.find('Hsp_hit-to').text\n",
    "            hsp_query_from = hsps.find('Hsp_query-from').text\n",
    "            hsp_query_to   = hsps.find('Hsp_query-to').text\n",
    "            hsp_align_len  = hsps.find('Hsp_align-len').text\n",
    "            hsp_hit_frame  = hsps.find('Hsp_hit-frame').text\n",
    "            hsp_query_frame = hsps.find('Hsp_query-frame').text\n",
    "            \n",
    "            if hsp_hit_frame == '-1':\n",
    "                hsp_hit_from, hsp_hit_to = hsp_hit_to, hsp_hit_from\n",
    "            if hsp_query_frame == '-1':\n",
    "                hsp_query_from, hsp_query_to = hsp_query_to, hsp_query_from\n",
    "            \n",
    "            \n",
    "            # redundunt alignment skip\n",
    "            if len(aligned_pos_ref & set(range(int(hsp_hit_from),int(hsp_hit_to))))>100:\n",
    "                continue\n",
    "            \n",
    "            aligned_pos_ref   = aligned_pos_ref | set(range(int(hsp_hit_from),int(hsp_hit_to)))\n",
    "            aligned_pos_query = aligned_pos_query | set(range(int(hsp_query_from),int(hsp_query_to)))\n",
    "            \n",
    "            print ('## alignment id: %s'%hsp_num,file=f)\n",
    "            print ('## alignment position query (%s) from %d to %d'%(echrA,int(hsp_query_from),int(hsp_query_to)),file=f)\n",
    "            print ('## alignment position ref (%s) from %d to %d'%(echrB,int(hsp_hit_from),int(hsp_hit_to)),file=f)\n",
    "            print ('## alignment length : %s bp'%hsp_align_len,file=f)\n",
    "            hsp_qseq = hsps.find('Hsp_qseq').text\n",
    "            hsp_hseq = hsps.find('Hsp_hseq').text\n",
    "\n",
    "            kang.seq_comp(['%s'%(echrB),'%s'%(echrA)],[hsp_hseq,hsp_qseq],f)\n",
    "        aligned_pos_ref      = aligned_pos_ref  - {0}\n",
    "        aligned_pos_query    = aligned_pos_query- {0}\n",
    "        aligned_length_ref   = len(aligned_pos_ref)\n",
    "        aligned_length_query = len(aligned_pos_query)\n",
    "        \n",
    "        print('# ref_scaffold   : %s (%d bp)'%(echrB,len(dic_fa[echrB])),file=f)\n",
    "        print('# query_scaffold : %s (%d bp)'%(echrA,len(dic_fa[echrA])),file=f)\n",
    "        print('# total aligned length from ref : %d'%aligned_length_ref,file=f)\n",
    "        print('# total aligned length from query : %d'%aligned_length_query,file=f)\n",
    "        print('# ratio of aligned length to ref_length : %f'%(float(aligned_length_ref)/len(seqB)),file=f)\n",
    "        print('# ratio of aligned length to query_length : %f'%(float(aligned_length_query)/len(seqA)),file=f)\n",
    "\n",
    "    subprocess.call('rm temp.*',shell=True)\n",
    "    return float(aligned_length_query)/len(seqA), float(aligned_length_ref)/len(seqB)"
   ]
  },
  {
   "cell_type": "code",
   "execution_count": 156,
   "metadata": {
    "collapsed": false
   },
   "outputs": [
    {
     "name": "stdout",
     "output_type": "stream",
     "text": [
      "cmd: blastn -query temp.336_a.fa -subject temp.336_b.fa -outfmt 5 -out temp.336.xml\n"
     ]
    }
   ],
   "source": [
    "get_two_blast_from_synteny('336')"
   ]
  },
  {
   "cell_type": "code",
   "execution_count": 125,
   "metadata": {
    "collapsed": false
   },
   "outputs": [
    {
     "name": "stdout",
     "output_type": "stream",
     "text": [
      "cmd: blastn -query temp.337_a.fa -subject temp.337_b.fa -outfmt 5 -out temp.337.xml\n"
     ]
    }
   ],
   "source": [
    "get_two_blast_from_synteny('337')"
   ]
  },
  {
   "cell_type": "code",
   "execution_count": 126,
   "metadata": {
    "collapsed": false
   },
   "outputs": [
    {
     "name": "stdout",
     "output_type": "stream",
     "text": [
      "cmd: blastn -query temp.412_a.fa -subject temp.412_b.fa -outfmt 5 -out temp.412.xml\n"
     ]
    }
   ],
   "source": [
    "get_two_blast_from_synteny('412')"
   ]
  },
  {
   "cell_type": "code",
   "execution_count": 160,
   "metadata": {
    "collapsed": false
   },
   "outputs": [
    {
     "name": "stdout",
     "output_type": "stream",
     "text": [
      "cmd: blastn -query temp.scaffold-935.fa -subject temp.scaffold-36.fa -outfmt 5 -out temp.scaffold-935.scaffold-36.xml\n"
     ]
    },
    {
     "data": {
      "text/plain": [
       "(0.9402726639466613, 0.01123730255997835)"
      ]
     },
     "execution_count": 160,
     "metadata": {},
     "output_type": "execute_result"
    }
   ],
   "source": [
    "get_two_blast_from_two_scaffold('scaffold-935','scaffold-36')"
   ]
  },
  {
   "cell_type": "code",
   "execution_count": 148,
   "metadata": {
    "collapsed": true
   },
   "outputs": [],
   "source": [
    "df_lowks_sb = pd.read_pickle('./df_lowks_sb.pk')"
   ]
  },
  {
   "cell_type": "code",
   "execution_count": 162,
   "metadata": {
    "collapsed": false
   },
   "outputs": [
    {
     "name": "stdout",
     "output_type": "stream",
     "text": [
      "cmd: blastn -query temp.scaffold-80.fa -subject temp.scaffold-902.fa -outfmt 5 -out temp.scaffold-80.scaffold-902.xml\n",
      "cmd: blastn -query temp.scaffold-77.fa -subject temp.scaffold-947.fa -outfmt 5 -out temp.scaffold-77.scaffold-947.xml\n",
      "cmd: blastn -query temp.scaffold-77.fa -subject temp.scaffold-942.fa -outfmt 5 -out temp.scaffold-77.scaffold-942.xml\n",
      "cmd: blastn -query temp.001501F-pilon.fa -subject temp.001931F-pilon.fa -outfmt 5 -out temp.001501F-pilon.001931F-pilon.xml\n",
      "cmd: blastn -query temp.scaffold-36.fa -subject temp.scaffold-918.fa -outfmt 5 -out temp.scaffold-36.scaffold-918.xml\n",
      "cmd: blastn -query temp.scaffold-36.fa -subject temp.scaffold-935.fa -outfmt 5 -out temp.scaffold-36.scaffold-935.xml\n",
      "cmd: blastn -query temp.scaffold-104.fa -subject temp.scaffold-956.fa -outfmt 5 -out temp.scaffold-104.scaffold-956.xml\n",
      "cmd: blastn -query temp.scaffold-145.fa -subject temp.scaffold-177.fa -outfmt 5 -out temp.scaffold-145.scaffold-177.xml\n",
      "cmd: blastn -query temp.scaffold-140.fa -subject temp.scaffold-200.fa -outfmt 5 -out temp.scaffold-140.scaffold-200.xml\n",
      "cmd: blastn -query temp.scaffold-140.fa -subject temp.scaffold-200.fa -outfmt 5 -out temp.scaffold-140.scaffold-200.xml\n",
      "cmd: blastn -query temp.scaffold-140.fa -subject temp.scaffold-200.fa -outfmt 5 -out temp.scaffold-140.scaffold-200.xml\n",
      "cmd: blastn -query temp.scaffold-6.fa -subject temp.scaffold-845.fa -outfmt 5 -out temp.scaffold-6.scaffold-845.xml\n",
      "cmd: blastn -query temp.scaffold-113.fa -subject temp.scaffold-939.fa -outfmt 5 -out temp.scaffold-113.scaffold-939.xml\n",
      "cmd: blastn -query temp.scaffold-113.fa -subject temp.scaffold-883.fa -outfmt 5 -out temp.scaffold-113.scaffold-883.xml\n",
      "cmd: blastn -query temp.scaffold-878.fa -subject temp.scaffold-970.fa -outfmt 5 -out temp.scaffold-878.scaffold-970.xml\n",
      "cmd: blastn -query temp.scaffold-82.fa -subject temp.scaffold-959.fa -outfmt 5 -out temp.scaffold-82.scaffold-959.xml\n",
      "cmd: blastn -query temp.scaffold-16.fa -subject temp.scaffold-178.fa -outfmt 5 -out temp.scaffold-16.scaffold-178.xml\n",
      "cmd: blastn -query temp.scaffold-105.fa -subject temp.scaffold-900.fa -outfmt 5 -out temp.scaffold-105.scaffold-900.xml\n",
      "cmd: blastn -query temp.scaffold-33.fa -subject temp.scaffold-969.fa -outfmt 5 -out temp.scaffold-33.scaffold-969.xml\n",
      "cmd: blastn -query temp.scaffold-180.fa -subject temp.scaffold-2.fa -outfmt 5 -out temp.scaffold-180.scaffold-2.xml\n",
      "cmd: blastn -query temp.scaffold-63.fa -subject temp.scaffold-961.fa -outfmt 5 -out temp.scaffold-63.scaffold-961.xml\n",
      "cmd: blastn -query temp.scaffold-67.fa -subject temp.scaffold-873.fa -outfmt 5 -out temp.scaffold-67.scaffold-873.xml\n",
      "cmd: blastn -query temp.scaffold-45.fa -subject temp.scaffold-963.fa -outfmt 5 -out temp.scaffold-45.scaffold-963.xml\n",
      "cmd: blastn -query temp.scaffold-20.fa -subject temp.scaffold-885.fa -outfmt 5 -out temp.scaffold-20.scaffold-885.xml\n",
      "cmd: blastn -query temp.scaffold-20.fa -subject temp.scaffold-874.fa -outfmt 5 -out temp.scaffold-20.scaffold-874.xml\n",
      "cmd: blastn -query temp.scaffold-204.fa -subject temp.scaffold-77.fa -outfmt 5 -out temp.scaffold-204.scaffold-77.xml\n",
      "cmd: blastn -query temp.scaffold-927.fa -subject temp.scaffold-98.fa -outfmt 5 -out temp.scaffold-927.scaffold-98.xml\n",
      "cmd: blastn -query temp.scaffold-95.fa -subject temp.scaffold-953.fa -outfmt 5 -out temp.scaffold-95.scaffold-953.xml\n",
      "cmd: blastn -query temp.scaffold-106.fa -subject temp.scaffold-960.fa -outfmt 5 -out temp.scaffold-106.scaffold-960.xml\n",
      "cmd: blastn -query temp.scaffold-19.fa -subject temp.scaffold-203.fa -outfmt 5 -out temp.scaffold-19.scaffold-203.xml\n",
      "cmd: blastn -query temp.scaffold-27.fa -subject temp.scaffold-968.fa -outfmt 5 -out temp.scaffold-27.scaffold-968.xml\n",
      "cmd: blastn -query temp.scaffold-70.fa -subject temp.scaffold-912.fa -outfmt 5 -out temp.scaffold-70.scaffold-912.xml\n",
      "cmd: blastn -query temp.scaffold-31.fa -subject temp.scaffold-929.fa -outfmt 5 -out temp.scaffold-31.scaffold-929.xml\n",
      "cmd: blastn -query temp.scaffold-31.fa -subject temp.scaffold-962.fa -outfmt 5 -out temp.scaffold-31.scaffold-962.xml\n",
      "cmd: blastn -query temp.scaffold-102.fa -subject temp.scaffold-967.fa -outfmt 5 -out temp.scaffold-102.scaffold-967.xml\n",
      "cmd: blastn -query temp.scaffold-197.fa -subject temp.scaffold-84.fa -outfmt 5 -out temp.scaffold-197.scaffold-84.xml\n",
      "cmd: blastn -query temp.scaffold-195.fa -subject temp.scaffold-63.fa -outfmt 5 -out temp.scaffold-195.scaffold-63.xml\n",
      "cmd: blastn -query temp.scaffold-193.fa -subject temp.scaffold-30.fa -outfmt 5 -out temp.scaffold-193.scaffold-30.xml\n"
     ]
    }
   ],
   "source": [
    "df_lowks_sb['ChrA_twoblast_aligned_fraction'] = 0. \n",
    "df_lowks_sb['ChrB_twoblast_aligned_fraction'] = 0.\n",
    "for ix in set(df_lowks_sb.index):\n",
    "    edf = df_lowks_sb.xs(ix)\n",
    "    chrA = edf['ChrA']\n",
    "    chrB = edf['ChrB']\n",
    "    chrA_two_blast_aligned_ratio, chrB_two_blast_aligned_ratio = get_two_blast_from_two_scaffold(chrA,chrB)\n",
    "    df_lowks_sb = df_lowks_sb.set_value(ix,'ChrA_twoblast_aligned_fraction',chrA_two_blast_aligned_ratio)\n",
    "    df_lowks_sb = df_lowks_sb.set_value(ix,'ChrB_twoblast_aligned_fraction',chrB_two_blast_aligned_ratio)"
   ]
  },
  {
   "cell_type": "code",
   "execution_count": 151,
   "metadata": {
    "collapsed": false
   },
   "outputs": [],
   "source": [
    "#df_lowks_sb.set_value(ix,'ChrA_twoblast_aligned_fraction',chrA_two_blast_aligned_ratio)\n",
    "df_lowks_sb.to_excel('lowKs_scaffolds.xls')"
   ]
  },
  {
   "cell_type": "code",
   "execution_count": 150,
   "metadata": {
    "collapsed": false
   },
   "outputs": [
    {
     "data": {
      "text/html": [
       "<div>\n",
       "<table border=\"1\" class=\"dataframe\">\n",
       "  <thead>\n",
       "    <tr style=\"text-align: right;\">\n",
       "      <th></th>\n",
       "      <th>ChrA</th>\n",
       "      <th>ChrA_len</th>\n",
       "      <th>ChrB</th>\n",
       "      <th>ChrB_len</th>\n",
       "      <th>Ks</th>\n",
       "      <th>ratioA</th>\n",
       "      <th>ratioB</th>\n",
       "      <th>synblock id</th>\n",
       "      <th>synblockA_len</th>\n",
       "      <th>synblockB_len</th>\n",
       "      <th>ChrA_twoblast_aligned_fraction</th>\n",
       "      <th>ChrB_twoblast_aligned_fraction</th>\n",
       "    </tr>\n",
       "  </thead>\n",
       "  <tbody>\n",
       "    <tr>\n",
       "      <th>0</th>\n",
       "      <td>scaffold-80</td>\n",
       "      <td>1910584</td>\n",
       "      <td>scaffold-902</td>\n",
       "      <td>32793</td>\n",
       "      <td>0.146745</td>\n",
       "      <td>0.036198</td>\n",
       "      <td>0.931449</td>\n",
       "      <td>449</td>\n",
       "      <td>69160</td>\n",
       "      <td>30545</td>\n",
       "      <td>0.018346</td>\n",
       "      <td>0.649651</td>\n",
       "    </tr>\n",
       "    <tr>\n",
       "      <th>1</th>\n",
       "      <td>scaffold-77</td>\n",
       "      <td>3518929</td>\n",
       "      <td>scaffold-947</td>\n",
       "      <td>56809</td>\n",
       "      <td>0.040018</td>\n",
       "      <td>0.012773</td>\n",
       "      <td>0.763770</td>\n",
       "      <td>443</td>\n",
       "      <td>44949</td>\n",
       "      <td>43389</td>\n",
       "      <td>0.013912</td>\n",
       "      <td>0.028869</td>\n",
       "    </tr>\n",
       "    <tr>\n",
       "      <th>2</th>\n",
       "      <td>scaffold-77</td>\n",
       "      <td>3518929</td>\n",
       "      <td>scaffold-942</td>\n",
       "      <td>54235</td>\n",
       "      <td>0.058247</td>\n",
       "      <td>0.011934</td>\n",
       "      <td>0.809588</td>\n",
       "      <td>442</td>\n",
       "      <td>41995</td>\n",
       "      <td>43908</td>\n",
       "      <td>0.013582</td>\n",
       "      <td>0.035401</td>\n",
       "    </tr>\n",
       "    <tr>\n",
       "      <th>3</th>\n",
       "      <td>001501F-pilon</td>\n",
       "      <td>27400</td>\n",
       "      <td>001931F-pilon</td>\n",
       "      <td>15227</td>\n",
       "      <td>0.055767</td>\n",
       "      <td>0.392883</td>\n",
       "      <td>0.736061</td>\n",
       "      <td>0</td>\n",
       "      <td>10765</td>\n",
       "      <td>11208</td>\n",
       "      <td>0.505255</td>\n",
       "      <td>0.905760</td>\n",
       "    </tr>\n",
       "    <tr>\n",
       "      <th>4</th>\n",
       "      <td>scaffold-36</td>\n",
       "      <td>4677813</td>\n",
       "      <td>scaffold-918</td>\n",
       "      <td>41062</td>\n",
       "      <td>0.038916</td>\n",
       "      <td>0.007073</td>\n",
       "      <td>0.859529</td>\n",
       "      <td>335</td>\n",
       "      <td>33086</td>\n",
       "      <td>35294</td>\n",
       "      <td>0.009713</td>\n",
       "      <td>0.944888</td>\n",
       "    </tr>\n",
       "  </tbody>\n",
       "</table>\n",
       "</div>"
      ],
      "text/plain": [
       "            ChrA  ChrA_len           ChrB  ChrB_len        Ks    ratioA  \\\n",
       "0    scaffold-80   1910584   scaffold-902     32793  0.146745  0.036198   \n",
       "1    scaffold-77   3518929   scaffold-947     56809  0.040018  0.012773   \n",
       "2    scaffold-77   3518929   scaffold-942     54235  0.058247  0.011934   \n",
       "3  001501F-pilon     27400  001931F-pilon     15227  0.055767  0.392883   \n",
       "4    scaffold-36   4677813   scaffold-918     41062  0.038916  0.007073   \n",
       "\n",
       "     ratioB synblock id  synblockA_len  synblockB_len  \\\n",
       "0  0.931449         449          69160          30545   \n",
       "1  0.763770         443          44949          43389   \n",
       "2  0.809588         442          41995          43908   \n",
       "3  0.736061           0          10765          11208   \n",
       "4  0.859529         335          33086          35294   \n",
       "\n",
       "   ChrA_twoblast_aligned_fraction  ChrB_twoblast_aligned_fraction  \n",
       "0                        0.018346                        0.649651  \n",
       "1                        0.013912                        0.028869  \n",
       "2                        0.013582                        0.035401  \n",
       "3                        0.505255                        0.905760  \n",
       "4                        0.009713                        0.944888  "
      ]
     },
     "execution_count": 150,
     "metadata": {},
     "output_type": "execute_result"
    }
   ],
   "source": [
    "df_lowks_sb.head()"
   ]
  },
  {
   "cell_type": "code",
   "execution_count": 141,
   "metadata": {
    "collapsed": false
   },
   "outputs": [
    {
     "data": {
      "text/plain": [
       "0.7402350307778399"
      ]
     },
     "execution_count": 141,
     "metadata": {},
     "output_type": "execute_result"
    }
   ],
   "source": [
    "chrA_two_blast_aligned_ratio"
   ]
  },
  {
   "cell_type": "code",
   "execution_count": 144,
   "metadata": {
    "collapsed": false
   },
   "outputs": [
    {
     "data": {
      "text/plain": [
       "37"
      ]
     },
     "execution_count": 144,
     "metadata": {},
     "output_type": "execute_result"
    }
   ],
   "source": [
    "ix"
   ]
  },
  {
   "cell_type": "code",
   "execution_count": null,
   "metadata": {
    "collapsed": true
   },
   "outputs": [],
   "source": []
  }
 ],
 "metadata": {
  "kernelspec": {
   "display_name": "Python 2",
   "language": "python",
   "name": "python2"
  },
  "language_info": {
   "codemirror_mode": {
    "name": "ipython",
    "version": 2
   },
   "file_extension": ".py",
   "mimetype": "text/x-python",
   "name": "python",
   "nbconvert_exporter": "python",
   "pygments_lexer": "ipython2",
   "version": "2.7.6"
  }
 },
 "nbformat": 4,
 "nbformat_minor": 1
}
