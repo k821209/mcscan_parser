{
 "cells": [
  {
   "cell_type": "code",
   "execution_count": 1,
   "metadata": {
    "collapsed": true
   },
   "outputs": [],
   "source": [
    "import pandas as pd \n",
    "\n",
    "file_kaks = './Ah2Ah.collinearity.kaks'\n",
    "\n",
    "df_kaks   = pd.read_csv(file_kaks,sep='\\t',comment='#',header=None)\n",
    "\n",
    "file_bo   = '../blast/aha_v2_final.pep.fa.2.Athaliana_167_TAIR10.protein.fa.na1.ev1e5.out7'\n",
    "df_bo     = pd.read_csv(file_bo,sep='\\t',comment='#',header=None)\n",
    "\n",
    "file_annot = '/storage/References/Athaliana/annotation/Athaliana_167_TAIR10.annotation_info.txt'\n",
    "df_annot   = pd.read_csv(file_annot,sep='\\t',comment='#',header=None)\n",
    "\n",
    "df_annot_short = df_annot[[1,2,12]]\n",
    "\n",
    "df_annot_short.columns = ['gene','transcript','annotation']\n",
    "\n",
    "df_annot_short_tnix = df_annot_short.set_index('transcript')"
   ]
  },
  {
   "cell_type": "code",
   "execution_count": 14,
   "metadata": {
    "collapsed": false
   },
   "outputs": [],
   "source": [
    "dicT2T = dict(zip(df_bo[0],df_bo[1]))"
   ]
  },
  {
   "cell_type": "code",
   "execution_count": 23,
   "metadata": {
    "collapsed": false
   },
   "outputs": [],
   "source": [
    "def get_annotation(x):\n",
    "    try:\n",
    "        return df_annot_short_tnix.xs(dicT2T[x])['annotation']\n",
    "    except KeyError:\n",
    "        return None\n",
    "\n",
    "df_kaks['annotationA'] = df_kaks[1].apply(lambda x : get_annotation(x))\n",
    "df_kaks['annotationB'] = df_kaks[2].apply(lambda x : get_annotation(x))"
   ]
  },
  {
   "cell_type": "code",
   "execution_count": 41,
   "metadata": {
    "collapsed": true
   },
   "outputs": [],
   "source": [
    "def get_ath(x):\n",
    "    try:\n",
    "        return dicT2T[x]\n",
    "    except KeyError:\n",
    "        return None\n",
    "df_kaks['ATH.A'] = df_kaks[1].apply(lambda x : get_ath(x))\n",
    "df_kaks['ATH.B'] = df_kaks[2].apply(lambda x : get_ath(x))"
   ]
  },
  {
   "cell_type": "code",
   "execution_count": 42,
   "metadata": {
    "collapsed": false
   },
   "outputs": [],
   "source": [
    "df_kaks['synteny id'] = df_kaks[0].apply(lambda x : x.split('-')[0].strip())"
   ]
  },
  {
   "cell_type": "code",
   "execution_count": 43,
   "metadata": {
    "collapsed": false
   },
   "outputs": [
    {
     "data": {
      "text/html": [
       "<div>\n",
       "<table border=\"1\" class=\"dataframe\">\n",
       "  <thead>\n",
       "    <tr style=\"text-align: right;\">\n",
       "      <th></th>\n",
       "      <th>0</th>\n",
       "      <th>1</th>\n",
       "      <th>2</th>\n",
       "      <th>3</th>\n",
       "      <th>4</th>\n",
       "      <th>5</th>\n",
       "      <th>annotationA</th>\n",
       "      <th>annotationB</th>\n",
       "      <th>synteny id</th>\n",
       "      <th>ATH.A</th>\n",
       "      <th>ATH.B</th>\n",
       "    </tr>\n",
       "  </thead>\n",
       "  <tbody>\n",
       "    <tr>\n",
       "      <th>0</th>\n",
       "      <td>0-  0:</td>\n",
       "      <td>mRNA7810</td>\n",
       "      <td>mRNA23470</td>\n",
       "      <td>2.000000e-152</td>\n",
       "      <td>0.06229</td>\n",
       "      <td>0.055767</td>\n",
       "      <td>None</td>\n",
       "      <td>None</td>\n",
       "      <td>0</td>\n",
       "      <td>None</td>\n",
       "      <td>None</td>\n",
       "    </tr>\n",
       "    <tr>\n",
       "      <th>1</th>\n",
       "      <td>0-  1:</td>\n",
       "      <td>mRNA7811</td>\n",
       "      <td>mRNA23471</td>\n",
       "      <td>9.000000e-80</td>\n",
       "      <td>0.00000</td>\n",
       "      <td>0.000000</td>\n",
       "      <td>None</td>\n",
       "      <td>None</td>\n",
       "      <td>0</td>\n",
       "      <td>None</td>\n",
       "      <td>None</td>\n",
       "    </tr>\n",
       "    <tr>\n",
       "      <th>2</th>\n",
       "      <td>0-  2:</td>\n",
       "      <td>mRNA7812</td>\n",
       "      <td>mRNA23472</td>\n",
       "      <td>6.000000e-65</td>\n",
       "      <td>0.00000</td>\n",
       "      <td>0.000000</td>\n",
       "      <td>None</td>\n",
       "      <td>None</td>\n",
       "      <td>0</td>\n",
       "      <td>None</td>\n",
       "      <td>None</td>\n",
       "    </tr>\n",
       "    <tr>\n",
       "      <th>3</th>\n",
       "      <td>0-  3:</td>\n",
       "      <td>mRNA7813</td>\n",
       "      <td>mRNA23473</td>\n",
       "      <td>3.000000e-80</td>\n",
       "      <td>0.00000</td>\n",
       "      <td>0.000000</td>\n",
       "      <td>None</td>\n",
       "      <td>None</td>\n",
       "      <td>0</td>\n",
       "      <td>None</td>\n",
       "      <td>None</td>\n",
       "    </tr>\n",
       "    <tr>\n",
       "      <th>4</th>\n",
       "      <td>0-  4:</td>\n",
       "      <td>mRNA7814</td>\n",
       "      <td>mRNA23474</td>\n",
       "      <td>6.000000e-101</td>\n",
       "      <td>0.00000</td>\n",
       "      <td>0.000000</td>\n",
       "      <td>None</td>\n",
       "      <td>None</td>\n",
       "      <td>0</td>\n",
       "      <td>None</td>\n",
       "      <td>None</td>\n",
       "    </tr>\n",
       "  </tbody>\n",
       "</table>\n",
       "</div>"
      ],
      "text/plain": [
       "          0         1          2              3        4         5  \\\n",
       "0    0-  0:  mRNA7810  mRNA23470  2.000000e-152  0.06229  0.055767   \n",
       "1    0-  1:  mRNA7811  mRNA23471   9.000000e-80  0.00000  0.000000   \n",
       "2    0-  2:  mRNA7812  mRNA23472   6.000000e-65  0.00000  0.000000   \n",
       "3    0-  3:  mRNA7813  mRNA23473   3.000000e-80  0.00000  0.000000   \n",
       "4    0-  4:  mRNA7814  mRNA23474  6.000000e-101  0.00000  0.000000   \n",
       "\n",
       "  annotationA annotationB synteny id ATH.A ATH.B  \n",
       "0        None        None          0  None  None  \n",
       "1        None        None          0  None  None  \n",
       "2        None        None          0  None  None  \n",
       "3        None        None          0  None  None  \n",
       "4        None        None          0  None  None  "
      ]
     },
     "execution_count": 43,
     "metadata": {},
     "output_type": "execute_result"
    }
   ],
   "source": [
    "df_kaks.head()"
   ]
  },
  {
   "cell_type": "code",
   "execution_count": 44,
   "metadata": {
    "collapsed": false
   },
   "outputs": [],
   "source": [
    "df_kaks_short = df_kaks[[1,2,3,4,5,'annotationA','annotationB','synteny id','ATH.A','ATH.B']]"
   ]
  },
  {
   "cell_type": "code",
   "execution_count": 45,
   "metadata": {
    "collapsed": false
   },
   "outputs": [],
   "source": [
    "df_kaks_short.columns = ['mRNA_A', 'mRNA_B', 'evalue', 'Ka', 'Ks', u'annotationA', u'annotationB', u'synteny id','ATH.A','ATH.B']"
   ]
  },
  {
   "cell_type": "code",
   "execution_count": 46,
   "metadata": {
    "collapsed": false
   },
   "outputs": [],
   "source": [
    "df_kaks_short_ix = df_kaks_short.set_index('synteny id')"
   ]
  },
  {
   "cell_type": "code",
   "execution_count": 47,
   "metadata": {
    "collapsed": false
   },
   "outputs": [],
   "source": [
    "df_kaks_short_ix.to_excel('kska_with_annotation.xls')"
   ]
  },
  {
   "cell_type": "code",
   "execution_count": null,
   "metadata": {
    "collapsed": true
   },
   "outputs": [],
   "source": []
  }
 ],
 "metadata": {
  "kernelspec": {
   "display_name": "Python 2",
   "language": "python",
   "name": "python2"
  },
  "language_info": {
   "codemirror_mode": {
    "name": "ipython",
    "version": 2
   },
   "file_extension": ".py",
   "mimetype": "text/x-python",
   "name": "python",
   "nbconvert_exporter": "python",
   "pygments_lexer": "ipython2",
   "version": "2.7.6"
  }
 },
 "nbformat": 4,
 "nbformat_minor": 1
}
