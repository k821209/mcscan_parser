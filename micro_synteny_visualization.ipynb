{
 "cells": [
  {
   "cell_type": "code",
   "execution_count": 8,
   "metadata": {
    "collapsed": true
   },
   "outputs": [],
   "source": [
    "from __future__ import print_function\n",
    "import pandas as pd\n",
    "import numpy as np\n",
    "import sys\n",
    "sys.path.append('/storage/pipelines/')\n",
    "import kang"
   ]
  },
  {
   "cell_type": "markdown",
   "metadata": {},
   "source": [
    "**gff 파일 입력**"
   ]
  },
  {
   "cell_type": "code",
   "execution_count": 2,
   "metadata": {
    "collapsed": true
   },
   "outputs": [],
   "source": [
    "#basedir = '../aha_v2_final.gff3'\n",
    "file_gff = '../aha_v2_final.gff3'\n"
   ]
  },
  {
   "cell_type": "code",
   "execution_count": 5,
   "metadata": {
    "collapsed": false
   },
   "outputs": [],
   "source": [
    "df_gff = pd.read_csv(file_gff,sep='\\t',header=None,comment='#')"
   ]
  },
  {
   "cell_type": "code",
   "execution_count": 6,
   "metadata": {
    "collapsed": false
   },
   "outputs": [],
   "source": [
    "mask = (df_gff[2]=='mRNA')\n",
    "df_gff = df_gff[mask]"
   ]
  },
  {
   "cell_type": "code",
   "execution_count": 6,
   "metadata": {
    "collapsed": true
   },
   "outputs": [],
   "source": [
    "def get_genename(query):\n",
    "    dic = dict(zip([x.split('=')[0] for x in query.split(';')],[x.split('=')[1] for x in query.split(';')]))\n",
    "    return(dic['Name'])"
   ]
  },
  {
   "cell_type": "code",
   "execution_count": 9,
   "metadata": {
    "collapsed": false
   },
   "outputs": [],
   "source": [
    "df_gff['transcriptname'] = df_gff[8].apply(lambda x : kang.infoparse(x)['ID'])"
   ]
  },
  {
   "cell_type": "code",
   "execution_count": 10,
   "metadata": {
    "collapsed": false
   },
   "outputs": [],
   "source": [
    "df_gff_ix = df_gff.set_index('transcriptname')"
   ]
  },
  {
   "cell_type": "code",
   "execution_count": 14,
   "metadata": {
    "collapsed": false
   },
   "outputs": [
    {
     "data": {
      "text/html": [
       "<div>\n",
       "<table border=\"1\" class=\"dataframe\">\n",
       "  <thead>\n",
       "    <tr style=\"text-align: right;\">\n",
       "      <th></th>\n",
       "      <th>0</th>\n",
       "      <th>1</th>\n",
       "      <th>2</th>\n",
       "      <th>3</th>\n",
       "      <th>4</th>\n",
       "      <th>5</th>\n",
       "      <th>6</th>\n",
       "      <th>7</th>\n",
       "      <th>8</th>\n",
       "    </tr>\n",
       "    <tr>\n",
       "      <th>transcriptname</th>\n",
       "      <th></th>\n",
       "      <th></th>\n",
       "      <th></th>\n",
       "      <th></th>\n",
       "      <th></th>\n",
       "      <th></th>\n",
       "      <th></th>\n",
       "      <th></th>\n",
       "      <th></th>\n",
       "    </tr>\n",
       "  </thead>\n",
       "  <tbody>\n",
       "    <tr>\n",
       "      <th>mRNA1</th>\n",
       "      <td>scaffold-399</td>\n",
       "      <td>AUGUSTUS</td>\n",
       "      <td>mRNA</td>\n",
       "      <td>111</td>\n",
       "      <td>394</td>\n",
       "      <td>0.21</td>\n",
       "      <td>-</td>\n",
       "      <td>.</td>\n",
       "      <td>ID=mRNA1;Parent=gene1</td>\n",
       "    </tr>\n",
       "    <tr>\n",
       "      <th>mRNA2</th>\n",
       "      <td>scaffold-399</td>\n",
       "      <td>maker</td>\n",
       "      <td>mRNA</td>\n",
       "      <td>752</td>\n",
       "      <td>1880</td>\n",
       "      <td>.</td>\n",
       "      <td>-</td>\n",
       "      <td>.</td>\n",
       "      <td>ID=mRNA2;Parent=gene2;Name=Aha0399s00010.2;Ali...</td>\n",
       "    </tr>\n",
       "    <tr>\n",
       "      <th>mRNA3</th>\n",
       "      <td>scaffold-399</td>\n",
       "      <td>maker</td>\n",
       "      <td>mRNA</td>\n",
       "      <td>752</td>\n",
       "      <td>2740</td>\n",
       "      <td>.</td>\n",
       "      <td>-</td>\n",
       "      <td>.</td>\n",
       "      <td>ID=mRNA3;Parent=gene2;Name=Aha0399s00010.1;Ali...</td>\n",
       "    </tr>\n",
       "    <tr>\n",
       "      <th>mRNA4</th>\n",
       "      <td>scaffold-399</td>\n",
       "      <td>AUGUSTUS</td>\n",
       "      <td>mRNA</td>\n",
       "      <td>909</td>\n",
       "      <td>1421</td>\n",
       "      <td>0.94</td>\n",
       "      <td>-</td>\n",
       "      <td>.</td>\n",
       "      <td>ID=mRNA4;Parent=gene2;Name=g45869.t1</td>\n",
       "    </tr>\n",
       "    <tr>\n",
       "      <th>mRNA5</th>\n",
       "      <td>scaffold-399</td>\n",
       "      <td>maker</td>\n",
       "      <td>mRNA</td>\n",
       "      <td>1805</td>\n",
       "      <td>2740</td>\n",
       "      <td>.</td>\n",
       "      <td>-</td>\n",
       "      <td>.</td>\n",
       "      <td>ID=mRNA5;Parent=gene2;Name=Aha0399s00010.3;Ali...</td>\n",
       "    </tr>\n",
       "  </tbody>\n",
       "</table>\n",
       "</div>"
      ],
      "text/plain": [
       "                           0         1     2     3     4     5  6  7  \\\n",
       "transcriptname                                                         \n",
       "mRNA1           scaffold-399  AUGUSTUS  mRNA   111   394  0.21  -  .   \n",
       "mRNA2           scaffold-399     maker  mRNA   752  1880     .  -  .   \n",
       "mRNA3           scaffold-399     maker  mRNA   752  2740     .  -  .   \n",
       "mRNA4           scaffold-399  AUGUSTUS  mRNA   909  1421  0.94  -  .   \n",
       "mRNA5           scaffold-399     maker  mRNA  1805  2740     .  -  .   \n",
       "\n",
       "                                                                8  \n",
       "transcriptname                                                     \n",
       "mRNA1                                       ID=mRNA1;Parent=gene1  \n",
       "mRNA2           ID=mRNA2;Parent=gene2;Name=Aha0399s00010.2;Ali...  \n",
       "mRNA3           ID=mRNA3;Parent=gene2;Name=Aha0399s00010.1;Ali...  \n",
       "mRNA4                        ID=mRNA4;Parent=gene2;Name=g45869.t1  \n",
       "mRNA5           ID=mRNA5;Parent=gene2;Name=Aha0399s00010.3;Ali...  "
      ]
     },
     "execution_count": 14,
     "metadata": {},
     "output_type": "execute_result"
    }
   ],
   "source": [
    "df_gff_ix.head()"
   ]
  },
  {
   "cell_type": "markdown",
   "metadata": {},
   "source": [
    "**mcscan output 입력**"
   ]
  },
  {
   "cell_type": "code",
   "execution_count": 11,
   "metadata": {
    "collapsed": true
   },
   "outputs": [],
   "source": [
    "file_kaks = './Ah2Ah.collinearity.kaks'\n",
    "df_kaks = pd.read_csv(file_kaks,sep='\\t',header=None,comment='#')"
   ]
  },
  {
   "cell_type": "code",
   "execution_count": 12,
   "metadata": {
    "collapsed": true
   },
   "outputs": [],
   "source": [
    "df_kaks['synteny_ID'] = df_kaks[0].apply(lambda x:x.strip().split('-')[0]) "
   ]
  },
  {
   "cell_type": "code",
   "execution_count": 17,
   "metadata": {
    "collapsed": false
   },
   "outputs": [],
   "source": [
    "df_kaks['ChrA'] = df_kaks[1].apply(lambda x : df_gff_ix.xs(x)[0])\n",
    "df_kaks['ChrB'] = df_kaks[2].apply(lambda x : df_gff_ix.xs(x)[0])"
   ]
  },
  {
   "cell_type": "code",
   "execution_count": 21,
   "metadata": {
    "collapsed": true
   },
   "outputs": [],
   "source": [
    "df_kaks['PosA'] = df_kaks[1].apply(lambda x : df_gff_ix.xs(x)[3])\n",
    "df_kaks['PosB'] = df_kaks[2].apply(lambda x : df_gff_ix.xs(x)[3])"
   ]
  },
  {
   "cell_type": "code",
   "execution_count": 22,
   "metadata": {
    "collapsed": false
   },
   "outputs": [],
   "source": [
    "df_kaks_sbix = df_kaks.set_index('synteny_ID')"
   ]
  },
  {
   "cell_type": "code",
   "execution_count": 101,
   "metadata": {
    "collapsed": false
   },
   "outputs": [
    {
     "data": {
      "text/html": [
       "<div>\n",
       "<table border=\"1\" class=\"dataframe\">\n",
       "  <thead>\n",
       "    <tr style=\"text-align: right;\">\n",
       "      <th></th>\n",
       "      <th>0</th>\n",
       "      <th>1</th>\n",
       "      <th>2</th>\n",
       "      <th>3</th>\n",
       "      <th>4</th>\n",
       "      <th>5</th>\n",
       "      <th>ChrA</th>\n",
       "      <th>ChrB</th>\n",
       "      <th>PosA</th>\n",
       "      <th>PosB</th>\n",
       "    </tr>\n",
       "    <tr>\n",
       "      <th>synteny_ID</th>\n",
       "      <th></th>\n",
       "      <th></th>\n",
       "      <th></th>\n",
       "      <th></th>\n",
       "      <th></th>\n",
       "      <th></th>\n",
       "      <th></th>\n",
       "      <th></th>\n",
       "      <th></th>\n",
       "      <th></th>\n",
       "    </tr>\n",
       "  </thead>\n",
       "  <tbody>\n",
       "    <tr>\n",
       "      <th>337</th>\n",
       "      <td>337-  0:</td>\n",
       "      <td>mRNA44804</td>\n",
       "      <td>mRNA70890</td>\n",
       "      <td>3.000000e-97</td>\n",
       "      <td>0.010679</td>\n",
       "      <td>0.033246</td>\n",
       "      <td>scaffold-36</td>\n",
       "      <td>scaffold-948</td>\n",
       "      <td>2803485</td>\n",
       "      <td>759</td>\n",
       "    </tr>\n",
       "    <tr>\n",
       "      <th>337</th>\n",
       "      <td>337-  1:</td>\n",
       "      <td>mRNA44805</td>\n",
       "      <td>mRNA70891</td>\n",
       "      <td>1.000000e-31</td>\n",
       "      <td>0.032614</td>\n",
       "      <td>0.039483</td>\n",
       "      <td>scaffold-36</td>\n",
       "      <td>scaffold-948</td>\n",
       "      <td>2803636</td>\n",
       "      <td>902</td>\n",
       "    </tr>\n",
       "    <tr>\n",
       "      <th>337</th>\n",
       "      <td>337-  2:</td>\n",
       "      <td>mRNA44806</td>\n",
       "      <td>mRNA70897</td>\n",
       "      <td>1.000000e-72</td>\n",
       "      <td>0.026482</td>\n",
       "      <td>0.013334</td>\n",
       "      <td>scaffold-36</td>\n",
       "      <td>scaffold-948</td>\n",
       "      <td>2805083</td>\n",
       "      <td>1450</td>\n",
       "    </tr>\n",
       "    <tr>\n",
       "      <th>337</th>\n",
       "      <td>337-  3:</td>\n",
       "      <td>mRNA44807</td>\n",
       "      <td>mRNA70900</td>\n",
       "      <td>4.000000e-76</td>\n",
       "      <td>0.029292</td>\n",
       "      <td>0.016664</td>\n",
       "      <td>scaffold-36</td>\n",
       "      <td>scaffold-948</td>\n",
       "      <td>2805083</td>\n",
       "      <td>28775</td>\n",
       "    </tr>\n",
       "    <tr>\n",
       "      <th>337</th>\n",
       "      <td>337-  4:</td>\n",
       "      <td>mRNA44808</td>\n",
       "      <td>mRNA70901</td>\n",
       "      <td>7.000000e-144</td>\n",
       "      <td>0.000000</td>\n",
       "      <td>0.000000</td>\n",
       "      <td>scaffold-36</td>\n",
       "      <td>scaffold-948</td>\n",
       "      <td>2806121</td>\n",
       "      <td>31252</td>\n",
       "    </tr>\n",
       "    <tr>\n",
       "      <th>337</th>\n",
       "      <td>337-  5:</td>\n",
       "      <td>mRNA44811</td>\n",
       "      <td>mRNA70909</td>\n",
       "      <td>0.000000e+00</td>\n",
       "      <td>0.001512</td>\n",
       "      <td>0.001388</td>\n",
       "      <td>scaffold-36</td>\n",
       "      <td>scaffold-948</td>\n",
       "      <td>2812208</td>\n",
       "      <td>41307</td>\n",
       "    </tr>\n",
       "  </tbody>\n",
       "</table>\n",
       "</div>"
      ],
      "text/plain": [
       "                   0          1          2              3         4         5  \\\n",
       "synteny_ID                                                                      \n",
       "337         337-  0:  mRNA44804  mRNA70890   3.000000e-97  0.010679  0.033246   \n",
       "337         337-  1:  mRNA44805  mRNA70891   1.000000e-31  0.032614  0.039483   \n",
       "337         337-  2:  mRNA44806  mRNA70897   1.000000e-72  0.026482  0.013334   \n",
       "337         337-  3:  mRNA44807  mRNA70900   4.000000e-76  0.029292  0.016664   \n",
       "337         337-  4:  mRNA44808  mRNA70901  7.000000e-144  0.000000  0.000000   \n",
       "337         337-  5:  mRNA44811  mRNA70909   0.000000e+00  0.001512  0.001388   \n",
       "\n",
       "                   ChrA          ChrB     PosA   PosB  \n",
       "synteny_ID                                             \n",
       "337         scaffold-36  scaffold-948  2803485    759  \n",
       "337         scaffold-36  scaffold-948  2803636    902  \n",
       "337         scaffold-36  scaffold-948  2805083   1450  \n",
       "337         scaffold-36  scaffold-948  2805083  28775  \n",
       "337         scaffold-36  scaffold-948  2806121  31252  \n",
       "337         scaffold-36  scaffold-948  2812208  41307  "
      ]
     },
     "execution_count": 101,
     "metadata": {},
     "output_type": "execute_result"
    }
   ],
   "source": [
    "df_kaks_sbix.xs('337')"
   ]
  },
  {
   "cell_type": "markdown",
   "metadata": {},
   "source": [
    "**첫 synteny ID**"
   ]
  },
  {
   "cell_type": "code",
   "execution_count": 97,
   "metadata": {
    "collapsed": false
   },
   "outputs": [],
   "source": [
    "synteny_ID = '337'\n",
    "edf = df_kaks_sbix.xs(synteny_ID)\n",
    "\n",
    "chr_a = edf['ChrA'].values[0]\n",
    "chr_b = edf['ChrB'].values[0]\n",
    "pos_a = edf['PosA'].values\n",
    "pos_b = edf['PosB'].values\n",
    "mRNA_a = edf[1].values\n",
    "mRNA_b = edf[2].values\n",
    "\n",
    "m1 = df_gff[0] == chr_a\n",
    "m2 = np.min(pos_a) <= df_gff[3].astype(np.int)\n",
    "m3 = df_gff[3].astype(np.int)<= np.max(pos_a)\n",
    "mask = m1&m2&m3\n",
    "transcriptlist_in_synteny_A = df_gff[mask]['transcriptname'].values\n",
    "\n",
    "m1 = df_gff[0] == chr_b\n",
    "m2 = np.min(pos_b) <= df_gff[3].astype(np.int)\n",
    "m3 = df_gff[3].astype(np.int)<= np.max(pos_b)\n",
    "mask = m1&m2&m3\n",
    "transcriptlist_in_synteny_B = df_gff[mask]['transcriptname'].values\n",
    "\n",
    "diameter = 5 # of the circle representing a gene\n",
    "spacing = 3 # fixed distance between genes \n",
    "A_line_length = (diameter*2 + spacing) * len(transcriptlist_in_synteny_A)\n",
    "B_line_length = (diameter*2 + spacing) * len(transcriptlist_in_synteny_B)\n",
    "\n",
    "filename = 'synteny_ID_%s.svg'%synteny_ID\n",
    "Outfile = open(filename,'w')\n",
    "width   = A_line_length + 200\n",
    "height  = 1000\n",
    "gap     = 300 # gap between species lines\n",
    "\n",
    "print('''<?xml version=\"1.0\" encoding=\"utf-8\" standalone=\"no\"?>\n",
    "<!DOCTYPE svg PUBLIC \"-//W3C//DTD SVG 1.1//EN\"\n",
    "  \"http://www.w3.org/Graphics/SVG/1.1/DTD/svg11.dtd\">\n",
    "<svg height=\"%s\" width=\"%s\" version=\"1.1\" viewBox=\"0 0 %s %s\" xmlns=\"http://www.w3.org/2000/svg\" xmlns:xlink=\"http://www.w3.org/1999/xlink\">'''\n",
    "      %(height,width,height,width),file=Outfile)\n",
    "\n",
    "\n",
    "\n",
    "#line = '<line x1=\"%d\" y1=\"%d\" x2=\"%d\" y2=\"%d\" style=\"stroke:rgb(255,0,0);stroke-width:1\" />' \n",
    "line = '<line x1=\"%d\" y1=\"%d\" x2=\"%d\" y2=\"%d\" stroke=\"%s\" stroke-width=\"1\" />' \n",
    "dotline = '<line stroke-dasharray=\"2, 5\" x1=\"%d\" y1=\"%d\" x2=\"%d\" y2=\"%d\" stroke=\"%s\" stroke-width=\"1\" />'\n",
    "# left dot to right dot\n",
    "circle = '<circle cx=\"%d\" cy=\"%d\" r=\"%d\" stroke=\"black\" stroke-width=\"1\" fill=\"%s\" fill-opacity=\"0.4\"/>'\n",
    "# x, y, diameter\n",
    "text =  '<text x=\"%d\" y=\"%d\" fill=\"black\">%s</text>'\n",
    "# x, y, text\n",
    "\n",
    "# Line! 가로줄\n",
    "Alx = (width/2)-(A_line_length/2)\n",
    "Aly = 20\n",
    "Arx = (width/2)+(A_line_length/2)\n",
    "Ary = 20\n",
    "print(line%(Alx,Aly,Arx,Ary,'grey'),file=Outfile)\n",
    "print(dotline%(Alx-20,Aly,Arx+20,Ary,'grey'),file=Outfile)\n",
    "print(text%(Alx,Aly-10,chr_a),file=Outfile)\n",
    "\n",
    "# Line! 가로줄\n",
    "Blx = (width/2)-(B_line_length/2)\n",
    "Bly = Aly + gap\n",
    "Brx = (width/2)+(B_line_length/2)\n",
    "Bry = Ary + gap\n",
    "print(line%(Blx,Bly,Brx,Bry,'grey'),file=Outfile)\n",
    "print(dotline%(Blx-20,Bly,Brx+20,Bry,'grey'),file=Outfile)\n",
    "print(text%(Blx,Bly-10,chr_b),file=Outfile)\n",
    "\n",
    "dicG2P_A = {} # genename to position\n",
    "for i,j  in enumerate(transcriptlist_in_synteny_A):\n",
    "    print(circle%(i*(spacing+diameter*2)+Alx,Aly,diameter,'white'),file=Outfile)\n",
    "    dicG2P_A[j] = [i*(spacing+diameter*2)+Alx,Aly]\n",
    "\n",
    "dicG2P_B = {}\n",
    "for i,j  in enumerate(transcriptlist_in_synteny_B):\n",
    "    print(circle%(i*(spacing+diameter*2)+Blx,Bly,diameter,'white'),file=Outfile)\n",
    "    dicG2P_B[j] = [i*(spacing+diameter*2)+Blx,Bly]\n",
    "\n",
    "for i,j in enumerate(mRNA_a):\n",
    "    gnA = j\n",
    "    gnB = mRNA_b[i]\n",
    "    lx, ly = dicG2P_A[gnA]\n",
    "    rx, ry = dicG2P_B[gnB]\n",
    "    print(line%(lx,ly,rx,ry,'grey'),file=Outfile)\n",
    "    print(circle%(lx,ly,diameter,'red'),file=Outfile)\n",
    "    print(circle%(rx,ry,diameter,'red'),file=Outfile)"
   ]
  },
  {
   "cell_type": "code",
   "execution_count": 98,
   "metadata": {
    "collapsed": false
   },
   "outputs": [],
   "source": [
    "print('''</svg>\n",
    "\n",
    "''',file=Outfile)\n",
    "\n",
    "Outfile.close()"
   ]
  },
  {
   "cell_type": "code",
   "execution_count": 99,
   "metadata": {
    "collapsed": false,
    "scrolled": false
   },
   "outputs": [
    {
     "data": {
      "image/svg+xml": [
       "<svg height=\"1000\" version=\"1.1\" viewBox=\"0 0 1000 304\" width=\"304\" xmlns=\"http://www.w3.org/2000/svg\" xmlns:xlink=\"http://www.w3.org/1999/xlink\">\n",
       "<line stroke=\"grey\" stroke-width=\"1\" x1=\"100\" x2=\"204\" y1=\"20\" y2=\"20\"/>\n",
       "<line stroke=\"grey\" stroke-dasharray=\"2, 5\" stroke-width=\"1\" x1=\"80\" x2=\"224\" y1=\"20\" y2=\"20\"/>\n",
       "<text fill=\"black\" x=\"100\" y=\"10\">scaffold-36</text>\n",
       "<line stroke=\"grey\" stroke-width=\"1\" x1=\"22\" x2=\"282\" y1=\"320\" y2=\"320\"/>\n",
       "<line stroke=\"grey\" stroke-dasharray=\"2, 5\" stroke-width=\"1\" x1=\"2\" x2=\"302\" y1=\"320\" y2=\"320\"/>\n",
       "<text fill=\"black\" x=\"22\" y=\"310\">scaffold-948</text>\n",
       "<circle cx=\"100\" cy=\"20\" fill=\"white\" fill-opacity=\"0.4\" r=\"5\" stroke=\"black\" stroke-width=\"1\"/>\n",
       "<circle cx=\"113\" cy=\"20\" fill=\"white\" fill-opacity=\"0.4\" r=\"5\" stroke=\"black\" stroke-width=\"1\"/>\n",
       "<circle cx=\"126\" cy=\"20\" fill=\"white\" fill-opacity=\"0.4\" r=\"5\" stroke=\"black\" stroke-width=\"1\"/>\n",
       "<circle cx=\"139\" cy=\"20\" fill=\"white\" fill-opacity=\"0.4\" r=\"5\" stroke=\"black\" stroke-width=\"1\"/>\n",
       "<circle cx=\"152\" cy=\"20\" fill=\"white\" fill-opacity=\"0.4\" r=\"5\" stroke=\"black\" stroke-width=\"1\"/>\n",
       "<circle cx=\"165\" cy=\"20\" fill=\"white\" fill-opacity=\"0.4\" r=\"5\" stroke=\"black\" stroke-width=\"1\"/>\n",
       "<circle cx=\"178\" cy=\"20\" fill=\"white\" fill-opacity=\"0.4\" r=\"5\" stroke=\"black\" stroke-width=\"1\"/>\n",
       "<circle cx=\"191\" cy=\"20\" fill=\"white\" fill-opacity=\"0.4\" r=\"5\" stroke=\"black\" stroke-width=\"1\"/>\n",
       "<circle cx=\"22\" cy=\"320\" fill=\"white\" fill-opacity=\"0.4\" r=\"5\" stroke=\"black\" stroke-width=\"1\"/>\n",
       "<circle cx=\"35\" cy=\"320\" fill=\"white\" fill-opacity=\"0.4\" r=\"5\" stroke=\"black\" stroke-width=\"1\"/>\n",
       "<circle cx=\"48\" cy=\"320\" fill=\"white\" fill-opacity=\"0.4\" r=\"5\" stroke=\"black\" stroke-width=\"1\"/>\n",
       "<circle cx=\"61\" cy=\"320\" fill=\"white\" fill-opacity=\"0.4\" r=\"5\" stroke=\"black\" stroke-width=\"1\"/>\n",
       "<circle cx=\"74\" cy=\"320\" fill=\"white\" fill-opacity=\"0.4\" r=\"5\" stroke=\"black\" stroke-width=\"1\"/>\n",
       "<circle cx=\"87\" cy=\"320\" fill=\"white\" fill-opacity=\"0.4\" r=\"5\" stroke=\"black\" stroke-width=\"1\"/>\n",
       "<circle cx=\"100\" cy=\"320\" fill=\"white\" fill-opacity=\"0.4\" r=\"5\" stroke=\"black\" stroke-width=\"1\"/>\n",
       "<circle cx=\"113\" cy=\"320\" fill=\"white\" fill-opacity=\"0.4\" r=\"5\" stroke=\"black\" stroke-width=\"1\"/>\n",
       "<circle cx=\"126\" cy=\"320\" fill=\"white\" fill-opacity=\"0.4\" r=\"5\" stroke=\"black\" stroke-width=\"1\"/>\n",
       "<circle cx=\"139\" cy=\"320\" fill=\"white\" fill-opacity=\"0.4\" r=\"5\" stroke=\"black\" stroke-width=\"1\"/>\n",
       "<circle cx=\"152\" cy=\"320\" fill=\"white\" fill-opacity=\"0.4\" r=\"5\" stroke=\"black\" stroke-width=\"1\"/>\n",
       "<circle cx=\"165\" cy=\"320\" fill=\"white\" fill-opacity=\"0.4\" r=\"5\" stroke=\"black\" stroke-width=\"1\"/>\n",
       "<circle cx=\"178\" cy=\"320\" fill=\"white\" fill-opacity=\"0.4\" r=\"5\" stroke=\"black\" stroke-width=\"1\"/>\n",
       "<circle cx=\"191\" cy=\"320\" fill=\"white\" fill-opacity=\"0.4\" r=\"5\" stroke=\"black\" stroke-width=\"1\"/>\n",
       "<circle cx=\"204\" cy=\"320\" fill=\"white\" fill-opacity=\"0.4\" r=\"5\" stroke=\"black\" stroke-width=\"1\"/>\n",
       "<circle cx=\"217\" cy=\"320\" fill=\"white\" fill-opacity=\"0.4\" r=\"5\" stroke=\"black\" stroke-width=\"1\"/>\n",
       "<circle cx=\"230\" cy=\"320\" fill=\"white\" fill-opacity=\"0.4\" r=\"5\" stroke=\"black\" stroke-width=\"1\"/>\n",
       "<circle cx=\"243\" cy=\"320\" fill=\"white\" fill-opacity=\"0.4\" r=\"5\" stroke=\"black\" stroke-width=\"1\"/>\n",
       "<circle cx=\"256\" cy=\"320\" fill=\"white\" fill-opacity=\"0.4\" r=\"5\" stroke=\"black\" stroke-width=\"1\"/>\n",
       "<circle cx=\"269\" cy=\"320\" fill=\"white\" fill-opacity=\"0.4\" r=\"5\" stroke=\"black\" stroke-width=\"1\"/>\n",
       "<line stroke=\"grey\" stroke-width=\"1\" x1=\"100\" x2=\"22\" y1=\"20\" y2=\"320\"/>\n",
       "<circle cx=\"100\" cy=\"20\" fill=\"red\" fill-opacity=\"0.4\" r=\"5\" stroke=\"black\" stroke-width=\"1\"/>\n",
       "<circle cx=\"22\" cy=\"320\" fill=\"red\" fill-opacity=\"0.4\" r=\"5\" stroke=\"black\" stroke-width=\"1\"/>\n",
       "<line stroke=\"grey\" stroke-width=\"1\" x1=\"113\" x2=\"35\" y1=\"20\" y2=\"320\"/>\n",
       "<circle cx=\"113\" cy=\"20\" fill=\"red\" fill-opacity=\"0.4\" r=\"5\" stroke=\"black\" stroke-width=\"1\"/>\n",
       "<circle cx=\"35\" cy=\"320\" fill=\"red\" fill-opacity=\"0.4\" r=\"5\" stroke=\"black\" stroke-width=\"1\"/>\n",
       "<line stroke=\"grey\" stroke-width=\"1\" x1=\"126\" x2=\"113\" y1=\"20\" y2=\"320\"/>\n",
       "<circle cx=\"126\" cy=\"20\" fill=\"red\" fill-opacity=\"0.4\" r=\"5\" stroke=\"black\" stroke-width=\"1\"/>\n",
       "<circle cx=\"113\" cy=\"320\" fill=\"red\" fill-opacity=\"0.4\" r=\"5\" stroke=\"black\" stroke-width=\"1\"/>\n",
       "<line stroke=\"grey\" stroke-width=\"1\" x1=\"139\" x2=\"152\" y1=\"20\" y2=\"320\"/>\n",
       "<circle cx=\"139\" cy=\"20\" fill=\"red\" fill-opacity=\"0.4\" r=\"5\" stroke=\"black\" stroke-width=\"1\"/>\n",
       "<circle cx=\"152\" cy=\"320\" fill=\"red\" fill-opacity=\"0.4\" r=\"5\" stroke=\"black\" stroke-width=\"1\"/>\n",
       "<line stroke=\"grey\" stroke-width=\"1\" x1=\"152\" x2=\"165\" y1=\"20\" y2=\"320\"/>\n",
       "<circle cx=\"152\" cy=\"20\" fill=\"red\" fill-opacity=\"0.4\" r=\"5\" stroke=\"black\" stroke-width=\"1\"/>\n",
       "<circle cx=\"165\" cy=\"320\" fill=\"red\" fill-opacity=\"0.4\" r=\"5\" stroke=\"black\" stroke-width=\"1\"/>\n",
       "<line stroke=\"grey\" stroke-width=\"1\" x1=\"191\" x2=\"269\" y1=\"20\" y2=\"320\"/>\n",
       "<circle cx=\"191\" cy=\"20\" fill=\"red\" fill-opacity=\"0.4\" r=\"5\" stroke=\"black\" stroke-width=\"1\"/>\n",
       "<circle cx=\"269\" cy=\"320\" fill=\"red\" fill-opacity=\"0.4\" r=\"5\" stroke=\"black\" stroke-width=\"1\"/>\n",
       "</svg>"
      ],
      "text/plain": [
       "<IPython.core.display.SVG object>"
      ]
     },
     "metadata": {},
     "output_type": "display_data"
    }
   ],
   "source": [
    "from IPython.display import SVG, display\n",
    "display(SVG(filename))"
   ]
  },
  {
   "cell_type": "markdown",
   "metadata": {},
   "source": [
    "**두번째 부터는 다음 펑션으로**"
   ]
  },
  {
   "cell_type": "code",
   "execution_count": 71,
   "metadata": {
    "collapsed": true
   },
   "outputs": [],
   "source": [
    "def add_synteny(ID,layer,start):\n",
    "    synteny_ID = '337'\n",
    "    edf = df_kaks_sbix.xs(synteny_ID)\n",
    "\n",
    "    chr_a = edf['ChrA'].values[0]\n",
    "    chr_b = edf['ChrB'].values[0]\n",
    "    pos_a = edf['PosA'].values\n",
    "    pos_b = edf['PosB'].values\n",
    "    mRNA_a = edf[1].values\n",
    "    mRNA_b = edf[2].values\n",
    "\n",
    "    m1 = df_gff[0] == chr_a\n",
    "    m2 = np.min(pos_a) <= df_gff[3].astype(np.int)\n",
    "    m3 = df_gff[3].astype(np.int)<= np.max(pos_a)\n",
    "    mask = m1&m2&m3\n",
    "    transcriptlist_in_synteny_A = df_gff[mask]['transcriptname'].values\n",
    "\n",
    "    m1 = df_gff[0] == chr_b\n",
    "    m2 = np.min(pos_b) <= df_gff[3].astype(np.int)\n",
    "    m3 = df_gff[3].astype(np.int)<= np.max(pos_b)\n",
    "    mask = m1&m2&m3\n",
    "    transcriptlist_in_synteny_B = df_gff[mask]['transcriptname'].values\n",
    "   \n",
    "    A_line_length = (diameter*2 + spacing) * len(transcriptlist_in_synteny_A)\n",
    "    B_line_length = (diameter*2 + spacing) * len(transcriptlist_in_synteny_B)\n",
    "\n",
    "\n",
    "    #height = 500\n",
    "    gap = 300 # gap between species lines\n",
    "    # Line! \n",
    "    Blx = start\n",
    "    Bly = Aly + gap * layer\n",
    "    Brx = start+B_line_length\n",
    "    Bry = Ary + gap * layer\n",
    "    print(line%(Blx,Bly,Brx,Bry,'grey'),file=Outfile)\n",
    "    print(text%(Blx,Bly-10,B_chr+':'+str(B_pos[0])+'..'+str(B_pos[-1])),file=Outfile)\n",
    "\n",
    "    dicG2P_A = {} # genename to position\n",
    "    for i,j  in enumerate(transcriptlist_in_synteny_A):\n",
    "        print(circle%(i*(spacing+diameter*2)+Alx,Aly,diameter,'white'),file=Outfile)\n",
    "        dicG2P_A[j] = [i*(spacing+diameter*2)+Alx,Aly]\n",
    "    \n",
    "    dicG2P_B = {}\n",
    "    for i,j  in enumerate(transcriptlist_in_synteny_B):\n",
    "        print(circle%(i*(spacing+diameter*2)+Blx,Bly,diameter,'white'),file=Outfile)\n",
    "        dicG2P_B[j] = [i*(spacing+diameter*2)+Blx,Bly]\n",
    "\n",
    "    for i,j in enumerate(mRNA_a):\n",
    "        gnA = j\n",
    "        gnB = mRNA_b[i]\n",
    "        lx, ly = dicG2P_A[gnA]\n",
    "        rx, ry = dicG2P_B[gnB]\n",
    "        print(line%(lx,ly,rx,ry,'grey'),file=Outfile)\n",
    "        print(circle%(lx,ly,diameter,'red'),file=Outfile)\n",
    "        print(circle%(rx,ry,diameter,'red'),file=Outfile)"
   ]
  },
  {
   "cell_type": "code",
   "execution_count": 289,
   "metadata": {
    "collapsed": false
   },
   "outputs": [
    {
     "name": "stdout",
     "output_type": "stream",
     "text": [
      "557\n",
      "358\n",
      "30\n",
      "33\n",
      "70\n",
      "63\n",
      "70\n",
      "73\n"
     ]
    }
   ],
   "source": [
    "add_synteny('51',2,width/4)\n",
    "add_synteny('72',2,width/4-500)\n",
    "add_synteny('78',3,width/5)\n",
    "add_synteny('79',3,width/5+1000)\n"
   ]
  },
  {
   "cell_type": "code",
   "execution_count": null,
   "metadata": {
    "collapsed": true
   },
   "outputs": [],
   "source": []
  },
  {
   "cell_type": "code",
   "execution_count": null,
   "metadata": {
    "collapsed": true
   },
   "outputs": [],
   "source": []
  }
 ],
 "metadata": {
  "kernelspec": {
   "display_name": "Python 2",
   "language": "python",
   "name": "python2"
  },
  "language_info": {
   "codemirror_mode": {
    "name": "ipython",
    "version": 2
   },
   "file_extension": ".py",
   "mimetype": "text/x-python",
   "name": "python",
   "nbconvert_exporter": "python",
   "pygments_lexer": "ipython2",
   "version": "2.7.6"
  }
 },
 "nbformat": 4,
 "nbformat_minor": 0
}
