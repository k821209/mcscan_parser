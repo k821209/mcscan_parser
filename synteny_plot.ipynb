{
 "cells": [
  {
   "cell_type": "code",
   "execution_count": 3,
   "metadata": {
    "collapsed": false
   },
   "outputs": [],
   "source": [
    "%matplotlib inline\n",
    "import sys\n",
    "sys.path.append('/ref/pipelines/')\n",
    "import kang\n",
    "import pandas as pd\n",
    "import numpy as np\n",
    "import matplotlib.pyplot as plt\n",
    "import matplotlib.patches as mpatches\n",
    "import matplotlib.cm as cm\n",
    "from collections import Counter\n",
    "n=131\n",
    "colors=cm.rainbow(np.linspace(0,1,n))"
   ]
  },
  {
   "cell_type": "code",
   "execution_count": 4,
   "metadata": {
    "collapsed": false
   },
   "outputs": [],
   "source": [
    "import seaborn as sns\n",
    "colors = sns.color_palette(\"deep\", 20)\n",
    "#colors = sns.choose_colorbrewer_palette('qualitative')"
   ]
  },
  {
   "cell_type": "code",
   "execution_count": 6,
   "metadata": {
    "collapsed": false
   },
   "outputs": [],
   "source": [
    "file_fa = '/ref/References/Aha/Ahal.assembly.scf.fasta'\n",
    "dic_fa  = kang.Fasta2dic(file_fa)"
   ]
  },
  {
   "cell_type": "code",
   "execution_count": 7,
   "metadata": {
    "collapsed": false
   },
   "outputs": [
    {
     "data": {
      "text/plain": [
       "'scaffold-4'"
      ]
     },
     "execution_count": 7,
     "metadata": {},
     "output_type": "execute_result"
    }
   ],
   "source": [
    "key = dic_fa.keys()\n",
    "key.sort(key=lambda x : len(dic_fa[x]),reverse=True)\n",
    "key[4]"
   ]
  },
  {
   "cell_type": "code",
   "execution_count": null,
   "metadata": {
    "collapsed": true
   },
   "outputs": [],
   "source": []
  },
  {
   "cell_type": "code",
   "execution_count": 8,
   "metadata": {
    "collapsed": true
   },
   "outputs": [],
   "source": [
    "params = {'legend.fontsize': 'small',\n",
    "          'figure.figsize': (5, 4),\n",
    "         'axes.labelsize': 'small',\n",
    "         'axes.titlesize':'small',\n",
    "         'xtick.labelsize':'small',\n",
    "         'ytick.labelsize':'small'}\n",
    "plt.rcParams.update(params)"
   ]
  },
  {
   "cell_type": "code",
   "execution_count": 9,
   "metadata": {
    "collapsed": true
   },
   "outputs": [],
   "source": [
    "file_kaks = './Ah2Ah.collinearity.kaks'\n",
    "file_gff = './Ah2Ah.gff'\n",
    "\n",
    "df_gff = pd.read_csv(file_gff,sep='\\t',header=None)\n",
    "df_gff.set_index(1,inplace=True)\n",
    "df_kaks   = pd.read_csv(file_kaks,sep='\\t',comment='#',header=None)"
   ]
  },
  {
   "cell_type": "code",
   "execution_count": 10,
   "metadata": {
    "collapsed": false
   },
   "outputs": [
    {
     "data": {
      "text/plain": [
       "True"
      ]
     },
     "execution_count": 10,
     "metadata": {},
     "output_type": "execute_result"
    }
   ],
   "source": [
    "'000430F-pilon' in set(df_gff[0])"
   ]
  },
  {
   "cell_type": "code",
   "execution_count": 11,
   "metadata": {
    "collapsed": false
   },
   "outputs": [
    {
     "data": {
      "text/html": [
       "<div>\n",
       "<table border=\"1\" class=\"dataframe\">\n",
       "  <thead>\n",
       "    <tr style=\"text-align: right;\">\n",
       "      <th></th>\n",
       "      <th>0</th>\n",
       "      <th>1</th>\n",
       "      <th>2</th>\n",
       "      <th>3</th>\n",
       "      <th>4</th>\n",
       "      <th>5</th>\n",
       "    </tr>\n",
       "  </thead>\n",
       "  <tbody>\n",
       "    <tr>\n",
       "      <th>0</th>\n",
       "      <td>0-  0:</td>\n",
       "      <td>mRNA7810</td>\n",
       "      <td>mRNA23470</td>\n",
       "      <td>2.000000e-152</td>\n",
       "      <td>0.06229</td>\n",
       "      <td>0.055767</td>\n",
       "    </tr>\n",
       "    <tr>\n",
       "      <th>1</th>\n",
       "      <td>0-  1:</td>\n",
       "      <td>mRNA7811</td>\n",
       "      <td>mRNA23471</td>\n",
       "      <td>9.000000e-80</td>\n",
       "      <td>0.00000</td>\n",
       "      <td>0.000000</td>\n",
       "    </tr>\n",
       "    <tr>\n",
       "      <th>2</th>\n",
       "      <td>0-  2:</td>\n",
       "      <td>mRNA7812</td>\n",
       "      <td>mRNA23472</td>\n",
       "      <td>6.000000e-65</td>\n",
       "      <td>0.00000</td>\n",
       "      <td>0.000000</td>\n",
       "    </tr>\n",
       "    <tr>\n",
       "      <th>3</th>\n",
       "      <td>0-  3:</td>\n",
       "      <td>mRNA7813</td>\n",
       "      <td>mRNA23473</td>\n",
       "      <td>3.000000e-80</td>\n",
       "      <td>0.00000</td>\n",
       "      <td>0.000000</td>\n",
       "    </tr>\n",
       "    <tr>\n",
       "      <th>4</th>\n",
       "      <td>0-  4:</td>\n",
       "      <td>mRNA7814</td>\n",
       "      <td>mRNA23474</td>\n",
       "      <td>6.000000e-101</td>\n",
       "      <td>0.00000</td>\n",
       "      <td>0.000000</td>\n",
       "    </tr>\n",
       "  </tbody>\n",
       "</table>\n",
       "</div>"
      ],
      "text/plain": [
       "          0         1          2              3        4         5\n",
       "0    0-  0:  mRNA7810  mRNA23470  2.000000e-152  0.06229  0.055767\n",
       "1    0-  1:  mRNA7811  mRNA23471   9.000000e-80  0.00000  0.000000\n",
       "2    0-  2:  mRNA7812  mRNA23472   6.000000e-65  0.00000  0.000000\n",
       "3    0-  3:  mRNA7813  mRNA23473   3.000000e-80  0.00000  0.000000\n",
       "4    0-  4:  mRNA7814  mRNA23474  6.000000e-101  0.00000  0.000000"
      ]
     },
     "execution_count": 11,
     "metadata": {},
     "output_type": "execute_result"
    }
   ],
   "source": [
    "df_kaks.head()"
   ]
  },
  {
   "cell_type": "code",
   "execution_count": 12,
   "metadata": {
    "collapsed": false
   },
   "outputs": [],
   "source": [
    "df_kaks['A.chr'] = df_kaks[1].apply(lambda x : df_gff.loc[x][0])\n",
    "df_kaks['B.chr'] = df_kaks[2].apply(lambda x : df_gff.loc[x][0])\n",
    "df_kaks['posA'] = df_kaks[1].apply(lambda x : df_gff.loc[x][2])\n",
    "df_kaks['posB'] = df_kaks[2].apply(lambda x : df_gff.loc[x][2])\n",
    "df_kaks.columns = [0, 1, 2, 3, 'ka', 'ks', u'A.chr', u'B.chr', u'posA',u'posB']"
   ]
  },
  {
   "cell_type": "code",
   "execution_count": 13,
   "metadata": {
    "collapsed": false
   },
   "outputs": [],
   "source": [
    "df_kaks['SB'] = df_kaks[0].apply(lambda x : x.split('-')[0])"
   ]
  },
  {
   "cell_type": "code",
   "execution_count": 14,
   "metadata": {
    "collapsed": false
   },
   "outputs": [],
   "source": [
    "df_kaks_sbix = df_kaks.set_index('SB')"
   ]
  },
  {
   "cell_type": "code",
   "execution_count": 15,
   "metadata": {
    "collapsed": false
   },
   "outputs": [
    {
     "data": {
      "text/html": [
       "<div>\n",
       "<table border=\"1\" class=\"dataframe\">\n",
       "  <thead>\n",
       "    <tr style=\"text-align: right;\">\n",
       "      <th></th>\n",
       "      <th>0</th>\n",
       "      <th>1</th>\n",
       "      <th>2</th>\n",
       "      <th>3</th>\n",
       "      <th>ka</th>\n",
       "      <th>ks</th>\n",
       "      <th>A.chr</th>\n",
       "      <th>B.chr</th>\n",
       "      <th>posA</th>\n",
       "      <th>posB</th>\n",
       "    </tr>\n",
       "    <tr>\n",
       "      <th>SB</th>\n",
       "      <th></th>\n",
       "      <th></th>\n",
       "      <th></th>\n",
       "      <th></th>\n",
       "      <th></th>\n",
       "      <th></th>\n",
       "      <th></th>\n",
       "      <th></th>\n",
       "      <th></th>\n",
       "      <th></th>\n",
       "    </tr>\n",
       "  </thead>\n",
       "  <tbody>\n",
       "    <tr>\n",
       "      <th>0</th>\n",
       "      <td>0-  0:</td>\n",
       "      <td>mRNA7810</td>\n",
       "      <td>mRNA23470</td>\n",
       "      <td>2.000000e-152</td>\n",
       "      <td>0.06229</td>\n",
       "      <td>0.055767</td>\n",
       "      <td>001501F-pilon</td>\n",
       "      <td>001931F-pilon</td>\n",
       "      <td>15973</td>\n",
       "      <td>1922</td>\n",
       "    </tr>\n",
       "    <tr>\n",
       "      <th>0</th>\n",
       "      <td>0-  1:</td>\n",
       "      <td>mRNA7811</td>\n",
       "      <td>mRNA23471</td>\n",
       "      <td>9.000000e-80</td>\n",
       "      <td>0.00000</td>\n",
       "      <td>0.000000</td>\n",
       "      <td>001501F-pilon</td>\n",
       "      <td>001931F-pilon</td>\n",
       "      <td>18196</td>\n",
       "      <td>4588</td>\n",
       "    </tr>\n",
       "    <tr>\n",
       "      <th>0</th>\n",
       "      <td>0-  2:</td>\n",
       "      <td>mRNA7812</td>\n",
       "      <td>mRNA23472</td>\n",
       "      <td>6.000000e-65</td>\n",
       "      <td>0.00000</td>\n",
       "      <td>0.000000</td>\n",
       "      <td>001501F-pilon</td>\n",
       "      <td>001931F-pilon</td>\n",
       "      <td>19081</td>\n",
       "      <td>5473</td>\n",
       "    </tr>\n",
       "    <tr>\n",
       "      <th>0</th>\n",
       "      <td>0-  3:</td>\n",
       "      <td>mRNA7813</td>\n",
       "      <td>mRNA23473</td>\n",
       "      <td>3.000000e-80</td>\n",
       "      <td>0.00000</td>\n",
       "      <td>0.000000</td>\n",
       "      <td>001501F-pilon</td>\n",
       "      <td>001931F-pilon</td>\n",
       "      <td>20188</td>\n",
       "      <td>6580</td>\n",
       "    </tr>\n",
       "    <tr>\n",
       "      <th>0</th>\n",
       "      <td>0-  4:</td>\n",
       "      <td>mRNA7814</td>\n",
       "      <td>mRNA23474</td>\n",
       "      <td>6.000000e-101</td>\n",
       "      <td>0.00000</td>\n",
       "      <td>0.000000</td>\n",
       "      <td>001501F-pilon</td>\n",
       "      <td>001931F-pilon</td>\n",
       "      <td>21078</td>\n",
       "      <td>7470</td>\n",
       "    </tr>\n",
       "  </tbody>\n",
       "</table>\n",
       "</div>"
      ],
      "text/plain": [
       "            0         1          2              3       ka        ks  \\\n",
       "SB                                                                     \n",
       "  0    0-  0:  mRNA7810  mRNA23470  2.000000e-152  0.06229  0.055767   \n",
       "  0    0-  1:  mRNA7811  mRNA23471   9.000000e-80  0.00000  0.000000   \n",
       "  0    0-  2:  mRNA7812  mRNA23472   6.000000e-65  0.00000  0.000000   \n",
       "  0    0-  3:  mRNA7813  mRNA23473   3.000000e-80  0.00000  0.000000   \n",
       "  0    0-  4:  mRNA7814  mRNA23474  6.000000e-101  0.00000  0.000000   \n",
       "\n",
       "             A.chr          B.chr   posA  posB  \n",
       "SB                                              \n",
       "  0  001501F-pilon  001931F-pilon  15973  1922  \n",
       "  0  001501F-pilon  001931F-pilon  18196  4588  \n",
       "  0  001501F-pilon  001931F-pilon  19081  5473  \n",
       "  0  001501F-pilon  001931F-pilon  20188  6580  \n",
       "  0  001501F-pilon  001931F-pilon  21078  7470  "
      ]
     },
     "execution_count": 15,
     "metadata": {},
     "output_type": "execute_result"
    }
   ],
   "source": [
    "df_kaks_sbix.head()"
   ]
  },
  {
   "cell_type": "code",
   "execution_count": 24,
   "metadata": {
    "collapsed": false
   },
   "outputs": [
    {
     "name": "stdout",
     "output_type": "stream",
     "text": [
      "449 scaffold-80 scaffold-902 1910584 32793 0.0361983561047 0.931448784802\n",
      "443 scaffold-77 scaffold-947 3518929 56809 0.0127734887518 0.763769825204\n",
      "442 scaffold-77 scaffold-942 3518929 54235 0.0119340287911 0.80958790449\n",
      "  0 001501F-pilon 001931F-pilon 27400 15227 0.392883211679 0.736060944375\n",
      "335 scaffold-36 scaffold-918 4677813 41062 0.00707296336985 0.859529491988\n",
      "336 scaffold-36 scaffold-935 4677813 50245 0.0104674983801 0.806727037516\n",
      " 28 scaffold-104 scaffold-956 1755753 70353 0.0332723338647 0.979105368641\n",
      "147 scaffold-145 scaffold-177 430301 113502 0.204026948578 0.994581593276\n",
      "136 scaffold-140 scaffold-200 183261 42654 0.306038928086 0.865897688376\n",
      "139 scaffold-140 scaffold-200 183261 42654 0.280736217744 0.701739578937\n",
      "138 scaffold-140 scaffold-200 183261 42654 0.354150637615 0.901392600928\n",
      "401 scaffold-6 scaffold-845 2522747 22055 0.00693648629847 0.756653819995\n",
      " 63 scaffold-113 scaffold-939 2012682 52435 0.0191182710433 0.820406217221\n",
      " 62 scaffold-113 scaffold-883 2012682 29047 0.0126492908467 0.82321754398\n",
      "458 scaffold-878 scaffold-970 27987 92946 0.711508914853 0.209949863362\n",
      "453 scaffold-82 scaffold-959 1900222 71367 0.0293107857924 0.933975086525\n",
      "175 scaffold-16 scaffold-178 1142215 113059 0.0583848049623 0.794169415969\n",
      " 33 scaffold-105 scaffold-900 1404042 32316 0.0148136594204 0.771475430127\n",
      "322 scaffold-33 scaffold-969 3716078 89743 0.0237406211603 0.952542259563\n",
      "203 scaffold-180 scaffold-2 132465 3364938 0.89006907485 0.0237808244907\n",
      "415 scaffold-63 scaffold-961 3822946 72622 0.0188600623707 0.880931398199\n",
      "419 scaffold-67 scaffold-873 1093104 26472 0.0193138072864 0.806248111212\n",
      "361 scaffold-45 scaffold-963 511734 74913 0.0905763541215 0.745544832005\n",
      "252 scaffold-20 scaffold-885 4148259 29408 0.00649308541246 0.990784820457\n",
      "251 scaffold-20 scaffold-874 4148259 26741 0.00630674217786 0.872966605587\n",
      "254 scaffold-204 scaffold-77 86128 3518929 0.938753947613 0.0191336625433\n",
      "461 scaffold-927 scaffold-98 53318 908077 0.854401890544 0.0486346422165\n",
      "462 scaffold-95 scaffold-953 1698815 67367 0.0200039439256 0.944854305521\n",
      " 41 scaffold-106 scaffold-960 1912419 72246 0.0375785850277 0.97919608006\n",
      "215 scaffold-19 scaffold-203 1959051 58260 0.026971732742 0.810813594233\n",
      "282 scaffold-27 scaffold-968 1108531 87873 0.0862691255364 0.868400987789\n",
      "429 scaffold-70 scaffold-912 681461 36402 0.0579431544872 0.978902258118\n",
      "302 scaffold-31 scaffold-929 1525041 48710 0.0350961056129 0.784253746664\n",
      "303 scaffold-31 scaffold-962 1525041 74542 0.0426165591614 0.886667918757\n",
      " 16 scaffold-102 scaffold-967 498561 85021 0.149781069919 0.807071194176\n",
      "229 scaffold-197 scaffold-84 72664 484206 0.782629637785 0.120190580042\n",
      "227 scaffold-195 scaffold-63 71965 3822946 0.736830403668 0.0189942520768\n",
      "225 scaffold-193 scaffold-30 62545 1512344 0.774642257575 0.034087482742\n",
      "223 2080 52\n"
     ]
    }
   ],
   "source": [
    "ks_list   = []\n",
    "sb_length = []\n",
    "number_SB_lowKs = 0\n",
    "number_gene_in_SB_lowKs = 0 \n",
    "number_SB_lowKs_same_chr = 0\n",
    "low_a = []\n",
    "dic = {'synblock id' : [],\n",
    "       'ChrA' : [],\n",
    "       'ChrB' : [],\n",
    "       'ChrA_len' : [],\n",
    "       'ChrB_len' : [],\n",
    "       'synblockA_len' : [],\n",
    "       'synblockB_len' : [],\n",
    "       'ratioA' : [],\n",
    "       'ratioB' :[],\n",
    "       'Ks':[]\n",
    "      }\n",
    "for ix in set(df_kaks_sbix.index):\n",
    "    edf  = df_kaks_sbix.loc[ix]\n",
    "    ks   = edf['ks']\n",
    "    chrA = edf['A.chr'].values[0]\n",
    "    chrB = edf['B.chr'].values[0]\n",
    "    chrA_len = len(dic_fa[chrA])\n",
    "    chrB_len = len(dic_fa[chrB])\n",
    "    posA_len = np.max(edf['posA']) - np.min(edf['posA'])\n",
    "    posB_len = np.max(edf['posB']) - np.min(edf['posB'])\n",
    "    ratioA   = float(posA_len)/chrA_len\n",
    "    ratioB   = float(posB_len)/chrB_len\n",
    "    sb_length.append(posA_len)\n",
    "    mask = (ks > 0)\n",
    "    ks   = ks[mask]\n",
    "    if np.mean(ks) < 0.2:\n",
    "        if np.max([ratioA,ratioB]) > 0.7:\n",
    "            print ix,chrA,chrB,chrA_len,chrB_len,ratioA,ratioB\n",
    "            dic['synblock id'].append(ix)\n",
    "            dic['ChrA'].append(chrA)\n",
    "            dic['ChrB'].append(chrB)\n",
    "            dic['ChrA_len'].append(chrA_len)\n",
    "            dic['ChrB_len'].append(chrB_len)\n",
    "            dic['synblockA_len'].append(posA_len)\n",
    "            dic['synblockB_len'].append(posB_len)\n",
    "            dic['ratioA'].append(ratioA)\n",
    "            dic['ratioB'].append(ratioB)\n",
    "            dic['Ks'].append(np.mean(ks))\n",
    "        if edf[['A.chr','B.chr']].values[0][1] == edf[['A.chr','B.chr']].values[0][0]:\n",
    "            number_SB_lowKs_same_chr += 1\n",
    "        number_gene_in_SB_lowKs += len(edf)\n",
    "        number_SB_lowKs+=1\n",
    "    ks_list.append(np.mean(ks))\n",
    "print number_SB_lowKs,number_gene_in_SB_lowKs, number_SB_lowKs_same_chr"
   ]
  },
  {
   "cell_type": "code",
   "execution_count": 25,
   "metadata": {
    "collapsed": true
   },
   "outputs": [],
   "source": [
    "df_lowks_sb = pd.DataFrame(dic)"
   ]
  },
  {
   "cell_type": "code",
   "execution_count": 26,
   "metadata": {
    "collapsed": false
   },
   "outputs": [],
   "source": [
    "df_lowks_sb.to_pickle('df_lowks_sb.pk')"
   ]
  },
  {
   "cell_type": "code",
   "execution_count": 45,
   "metadata": {
    "collapsed": false
   },
   "outputs": [
    {
     "data": {
      "image/png": "[encoded data removed]",
      "text/plain": [
       "<matplotlib.figure.Figure at 0x7f68a015ea50>"
      ]
     },
     "metadata": {},
     "output_type": "display_data"
    }
   ],
   "source": [
    "import matplotlib\n",
    "matplotlib.style.use('ggplot')\n",
    "plt.hist(ks_list,bins=50)\n",
    "plt.xlabel('Ks')\n",
    "plt.ylabel('Number of synteny block')\n",
    "plt.xlim(0,2)\n",
    "plt.savefig('ks.png',dpi=300)"
   ]
  },
  {
   "cell_type": "code",
   "execution_count": 46,
   "metadata": {
    "collapsed": false
   },
   "outputs": [
    {
     "data": {
      "image/png": "[encoded data removed]",
      "text/plain": [
       "<matplotlib.figure.Figure at 0x7f68a1bcc190>"
      ]
     },
     "metadata": {},
     "output_type": "display_data"
    }
   ],
   "source": [
    "plt.hist(sb_length,bins=50)\n",
    "plt.xlabel('length (bp)')\n",
    "plt.ylabel('Number of synteny block')\n",
    "#plt.xlim(0,2)\n",
    "plt.savefig('sb.png',dpi=300)"
   ]
  },
  {
   "cell_type": "code",
   "execution_count": 47,
   "metadata": {
    "collapsed": false
   },
   "outputs": [],
   "source": [
    "chrs = set(df_kaks['A.chr'])"
   ]
  },
  {
   "cell_type": "code",
   "execution_count": 20,
   "metadata": {
    "collapsed": false
   },
   "outputs": [
    {
     "ename": "TypeError",
     "evalue": "unsupported operand type(s) for -: 'str' and 'int'",
     "output_type": "error",
     "traceback": [
      "\u001b[0;31m---------------------------------------------------------------------------\u001b[0m",
      "\u001b[0;31mTypeError\u001b[0m                                 Traceback (most recent call last)",
      "\u001b[0;32m<ipython-input-20-fc921259b0c3>\u001b[0m in \u001b[0;36m<module>\u001b[0;34m()\u001b[0m\n\u001b[1;32m      5\u001b[0m     \u001b[0my\u001b[0m    \u001b[0;34m=\u001b[0m \u001b[0medf\u001b[0m\u001b[0;34m[\u001b[0m\u001b[0;34m'ks'\u001b[0m\u001b[0;34m]\u001b[0m\u001b[0;34m\u001b[0m\u001b[0m\n\u001b[1;32m      6\u001b[0m     \u001b[0mx\u001b[0m    \u001b[0;34m=\u001b[0m \u001b[0medf\u001b[0m\u001b[0;34m[\u001b[0m\u001b[0;34m'pos'\u001b[0m\u001b[0;34m]\u001b[0m\u001b[0;34m\u001b[0m\u001b[0m\n\u001b[0;32m----> 7\u001b[0;31m     \u001b[0mc\u001b[0m    \u001b[0;34m=\u001b[0m \u001b[0;34m[\u001b[0m\u001b[0mcolors\u001b[0m\u001b[0;34m[\u001b[0m\u001b[0mi\u001b[0m\u001b[0;34m-\u001b[0m\u001b[0;36m1\u001b[0m\u001b[0;34m]\u001b[0m \u001b[0;32mfor\u001b[0m \u001b[0mi\u001b[0m \u001b[0;32min\u001b[0m \u001b[0medf\u001b[0m\u001b[0;34m[\u001b[0m\u001b[0;34m'B.chr'\u001b[0m\u001b[0;34m]\u001b[0m\u001b[0;34m.\u001b[0m\u001b[0mvalues\u001b[0m\u001b[0;34m]\u001b[0m\u001b[0;34m\u001b[0m\u001b[0m\n\u001b[0m\u001b[1;32m      8\u001b[0m     \u001b[0;32mif\u001b[0m \u001b[0mechr\u001b[0m \u001b[0;32min\u001b[0m \u001b[0;34m{\u001b[0m\u001b[0;36m1\u001b[0m\u001b[0;34m,\u001b[0m\u001b[0;36m2\u001b[0m\u001b[0;34m,\u001b[0m\u001b[0;36m3\u001b[0m\u001b[0;34m,\u001b[0m\u001b[0;36m4\u001b[0m\u001b[0;34m,\u001b[0m\u001b[0;36m5\u001b[0m\u001b[0;34m,\u001b[0m\u001b[0;36m6\u001b[0m\u001b[0;34m}\u001b[0m\u001b[0;34m:\u001b[0m\u001b[0;34m\u001b[0m\u001b[0m\n\u001b[1;32m      9\u001b[0m         \u001b[0max\u001b[0m\u001b[0;34m[\u001b[0m\u001b[0mechr\u001b[0m\u001b[0;34m-\u001b[0m\u001b[0;36m1\u001b[0m\u001b[0;34m,\u001b[0m\u001b[0;36m0\u001b[0m\u001b[0;34m]\u001b[0m\u001b[0;34m.\u001b[0m\u001b[0mscatter\u001b[0m\u001b[0;34m(\u001b[0m\u001b[0mx\u001b[0m\u001b[0;34m,\u001b[0m\u001b[0my\u001b[0m\u001b[0;34m,\u001b[0m\u001b[0mcolor\u001b[0m\u001b[0;34m=\u001b[0m\u001b[0mc\u001b[0m\u001b[0;34m,\u001b[0m\u001b[0ms\u001b[0m\u001b[0;34m=\u001b[0m\u001b[0;36m3\u001b[0m\u001b[0;34m,\u001b[0m\u001b[0malpha\u001b[0m\u001b[0;34m=\u001b[0m\u001b[0;36m0.4\u001b[0m\u001b[0;34m)\u001b[0m\u001b[0;34m\u001b[0m\u001b[0m\n",
      "\u001b[0;31mTypeError\u001b[0m: unsupported operand type(s) for -: 'str' and 'int'"
     ]
    },
    {
     "data": {
      "image/png": "[encoded data removed]",
      "text/plain": [
       "<matplotlib.figure.Figure at 0x7f68a2d2fa50>"
      ]
     },
     "metadata": {},
     "output_type": "display_data"
    }
   ],
   "source": [
    "fig,ax = plt.subplots(6,2,figsize=(8,8),sharex=True,sharey=True)\n",
    "for echr in chrs:\n",
    "    mask = df_kaks['A.chr'] == echr\n",
    "    edf  = df_kaks[mask]\n",
    "    y    = edf['ks']\n",
    "    x    = edf['pos']\n",
    "    c    = [colors[i-1] for i in edf['B.chr'].values]\n",
    "    if echr in {1,2,3,4,5,6}:\n",
    "        ax[echr-1,0].scatter(x,y,color=c,s=3,alpha=0.4)\n",
    "        ax[echr-1,0].set_title('chromosome %d'%echr)\n",
    "        ax[echr-1,0].set_ylim(0,3)\n",
    "    else:\n",
    "        ax[(echr-6-1),1].scatter(x,y,color=c,s=3,alpha=0.4)\n",
    "        ax[(echr-6-1),1].set_title('chromosome %d'%echr)\n",
    "        ax[(echr-6-1),1].set_ylim(0,3)\n",
    "Ca_chrs = list(set(df_kaks['Ca.chr'].values))\n",
    "fig.text(0.5, -0.02, 'Genomic position (bp)', ha='center',fontsize=10)\n",
    "fig.text(-0.02, 0.5, 'Ks', va='center', rotation='vertical',fontsize=10)\n",
    "plt.figlegend([mpatches.Patch(color=colors[x-1]) for x in Ca_chrs],Ca_chrs,bbox_to_anchor=[1.1,1.1],loc='best')\n",
    "plt.tight_layout()\n",
    "plt.savefig('synteny.png',dpi=300,bbox_inches='tight')"
   ]
  },
  {
   "cell_type": "code",
   "execution_count": null,
   "metadata": {
    "collapsed": true
   },
   "outputs": [],
   "source": []
  },
  {
   "cell_type": "code",
   "execution_count": 50,
   "metadata": {
    "collapsed": false
   },
   "outputs": [
    {
     "data": {
      "image/png": "[encoded data removed]",
      "text/plain": [
       "<matplotlib.figure.Figure at 0x7f68a27b1e90>"
      ]
     },
     "metadata": {},
     "output_type": "display_data"
    }
   ],
   "source": [
    "matplotlib.style.use('bmh')\n",
    "#echr = '000430F-pilon'\n",
    "echr = 'scaffold-63'\n",
    "fig,ax = plt.subplots(1,figsize=(15,2))\n",
    "mask = df_kaks['A.chr'] == echr\n",
    "edf  = df_kaks[mask]\n",
    "y    = edf['ks']\n",
    "x    = edf['posA']\n",
    "\n",
    "n=len(set(edf['A.chr'].values))\n",
    "#colors = ['red','blue','green']\n",
    "dicColor    = dict(zip(list(set(edf['A.chr'].values)),colors))\n",
    "#print dicColor\n",
    "c    = [dicColor[i] for i in edf['A.chr'].values]\n",
    "\n",
    "ax.scatter(x,y,s=5,alpha=0.5,marker='o',edgecolor='gray')\n",
    "#mask = df_kaks['A.chr'] == echr\n",
    "#edf  = df_kaks[mask]\n",
    "#y    = edf['ks']\n",
    "#x    = edf['pos']\n",
    "#c    = [colors[i-1] for i in edf['B.chr'].values]\n",
    "#ax.scatter(x,y,color=c,s=15,alpha=0.8,marker='o',edgecolor='gray')\n",
    "ax.set_title(echr)\n",
    "ax.set_xlim(0,len(dic_fa[echr]))\n",
    "ax.set_ylim(-0.2,3)\n",
    "sb = []\n",
    "for ix in edf['SB']:\n",
    "    if ix in set(sb):\n",
    "        continue\n",
    "    eedf = edf[(edf['SB']==ix)]\n",
    "    m = eedf['ks'] >= 0\n",
    "    y = eedf['ks'][m]\n",
    "    x = eedf['posA'][m]\n",
    "    \n",
    "    ax.plot(x,y,linewidth=1,alpha=0.5)\n",
    "    \n",
    "    ks = np.mean(y)\n",
    "    y  = np.max(eedf['ks'])\n",
    "    x  = np.mean(eedf['posA'])\n",
    "    sc =  eedf['A.chr'].values[0]\n",
    "    if ks < 1:\n",
    "        ax.text(x,y,'%s,%s,%0.2f'%(ix,sc,ks),rotation=25,ha='left',va='bottom')\n",
    "    sb.append(ix)\n",
    "plt.savefig('synteny_%s.png'%echr,dpi=300,bbox_inches='tight')\n",
    "#plt.legend()"
   ]
  },
  {
   "cell_type": "code",
   "execution_count": 92,
   "metadata": {
    "collapsed": false
   },
   "outputs": [
    {
     "data": {
      "text/plain": [
       "1142843"
      ]
     },
     "execution_count": 92,
     "metadata": {},
     "output_type": "execute_result"
    }
   ],
   "source": [
    "len(dic_fa['scaffold-86'])"
   ]
  },
  {
   "cell_type": "code",
   "execution_count": 122,
   "metadata": {
    "collapsed": true
   },
   "outputs": [
    {
     "data": {
      "text/html": [
       "<div>\n",
       "<table border=\"1\" class=\"dataframe\">\n",
       "  <thead>\n",
       "    <tr style=\"text-align: right;\">\n",
       "      <th></th>\n",
       "      <th>0</th>\n",
       "      <th>1</th>\n",
       "      <th>2</th>\n",
       "      <th>3</th>\n",
       "      <th>ka</th>\n",
       "      <th>ks</th>\n",
       "      <th>A.chr</th>\n",
       "      <th>B.chr</th>\n",
       "      <th>pos</th>\n",
       "    </tr>\n",
       "    <tr>\n",
       "      <th>SB</th>\n",
       "      <th></th>\n",
       "      <th></th>\n",
       "      <th></th>\n",
       "      <th></th>\n",
       "      <th></th>\n",
       "      <th></th>\n",
       "      <th></th>\n",
       "      <th></th>\n",
       "      <th></th>\n",
       "    </tr>\n",
       "  </thead>\n",
       "  <tbody>\n",
       "    <tr>\n",
       "      <th>431</th>\n",
       "      <td>431-  0:</td>\n",
       "      <td>g25412.t1</td>\n",
       "      <td>g25627.t1</td>\n",
       "      <td>0.000000e+00</td>\n",
       "      <td>0.028294</td>\n",
       "      <td>0.049740</td>\n",
       "      <td>scaffold-60</td>\n",
       "      <td>scaffold-60</td>\n",
       "      <td>1923</td>\n",
       "    </tr>\n",
       "    <tr>\n",
       "      <th>431</th>\n",
       "      <td>431-  1:</td>\n",
       "      <td>g25413.t1</td>\n",
       "      <td>g25628.t1</td>\n",
       "      <td>0.000000e+00</td>\n",
       "      <td>0.038670</td>\n",
       "      <td>0.058557</td>\n",
       "      <td>scaffold-60</td>\n",
       "      <td>scaffold-60</td>\n",
       "      <td>4991</td>\n",
       "    </tr>\n",
       "    <tr>\n",
       "      <th>431</th>\n",
       "      <td>431-  2:</td>\n",
       "      <td>g25414.t1</td>\n",
       "      <td>g25630.t1</td>\n",
       "      <td>6.000000e-86</td>\n",
       "      <td>0.068212</td>\n",
       "      <td>0.127253</td>\n",
       "      <td>scaffold-60</td>\n",
       "      <td>scaffold-60</td>\n",
       "      <td>8088</td>\n",
       "    </tr>\n",
       "    <tr>\n",
       "      <th>431</th>\n",
       "      <td>431-  3:</td>\n",
       "      <td>g25415.t1</td>\n",
       "      <td>g25631.t1</td>\n",
       "      <td>4.000000e-142</td>\n",
       "      <td>0.024329</td>\n",
       "      <td>0.030004</td>\n",
       "      <td>scaffold-60</td>\n",
       "      <td>scaffold-60</td>\n",
       "      <td>10563</td>\n",
       "    </tr>\n",
       "    <tr>\n",
       "      <th>431</th>\n",
       "      <td>431-  4:</td>\n",
       "      <td>g25416.t1</td>\n",
       "      <td>g25632.t1</td>\n",
       "      <td>0.000000e+00</td>\n",
       "      <td>0.040982</td>\n",
       "      <td>0.079939</td>\n",
       "      <td>scaffold-60</td>\n",
       "      <td>scaffold-60</td>\n",
       "      <td>13518</td>\n",
       "    </tr>\n",
       "    <tr>\n",
       "      <th>431</th>\n",
       "      <td>431-  5:</td>\n",
       "      <td>g25417.t1</td>\n",
       "      <td>g25636.t1</td>\n",
       "      <td>0.000000e+00</td>\n",
       "      <td>0.004122</td>\n",
       "      <td>0.042565</td>\n",
       "      <td>scaffold-60</td>\n",
       "      <td>scaffold-60</td>\n",
       "      <td>17060</td>\n",
       "    </tr>\n",
       "    <tr>\n",
       "      <th>431</th>\n",
       "      <td>431-  6:</td>\n",
       "      <td>g25418.t1</td>\n",
       "      <td>g25637.t1</td>\n",
       "      <td>2.000000e-58</td>\n",
       "      <td>0.115132</td>\n",
       "      <td>0.213222</td>\n",
       "      <td>scaffold-60</td>\n",
       "      <td>scaffold-60</td>\n",
       "      <td>20107</td>\n",
       "    </tr>\n",
       "    <tr>\n",
       "      <th>431</th>\n",
       "      <td>431-  7:</td>\n",
       "      <td>g25419.t1</td>\n",
       "      <td>g25638.t1</td>\n",
       "      <td>0.000000e+00</td>\n",
       "      <td>0.006094</td>\n",
       "      <td>0.074922</td>\n",
       "      <td>scaffold-60</td>\n",
       "      <td>scaffold-60</td>\n",
       "      <td>23762</td>\n",
       "    </tr>\n",
       "    <tr>\n",
       "      <th>431</th>\n",
       "      <td>431-  8:</td>\n",
       "      <td>g25420.t1</td>\n",
       "      <td>g25639.t1</td>\n",
       "      <td>4.000000e-93</td>\n",
       "      <td>0.000000</td>\n",
       "      <td>0.011811</td>\n",
       "      <td>scaffold-60</td>\n",
       "      <td>scaffold-60</td>\n",
       "      <td>26714</td>\n",
       "    </tr>\n",
       "    <tr>\n",
       "      <th>431</th>\n",
       "      <td>431-  9:</td>\n",
       "      <td>g25421.t1</td>\n",
       "      <td>g25640.t1</td>\n",
       "      <td>5.000000e-124</td>\n",
       "      <td>0.000000</td>\n",
       "      <td>0.000000</td>\n",
       "      <td>scaffold-60</td>\n",
       "      <td>scaffold-60</td>\n",
       "      <td>28625</td>\n",
       "    </tr>\n",
       "    <tr>\n",
       "      <th>431</th>\n",
       "      <td>431- 10:</td>\n",
       "      <td>g25422.t1</td>\n",
       "      <td>g25642.t1</td>\n",
       "      <td>5.000000e-166</td>\n",
       "      <td>0.014608</td>\n",
       "      <td>0.016950</td>\n",
       "      <td>scaffold-60</td>\n",
       "      <td>scaffold-60</td>\n",
       "      <td>30433</td>\n",
       "    </tr>\n",
       "    <tr>\n",
       "      <th>431</th>\n",
       "      <td>431- 11:</td>\n",
       "      <td>g25423.t1</td>\n",
       "      <td>g25643.t1</td>\n",
       "      <td>4.000000e-63</td>\n",
       "      <td>0.000000</td>\n",
       "      <td>0.000000</td>\n",
       "      <td>scaffold-60</td>\n",
       "      <td>scaffold-60</td>\n",
       "      <td>33219</td>\n",
       "    </tr>\n",
       "    <tr>\n",
       "      <th>431</th>\n",
       "      <td>431- 12:</td>\n",
       "      <td>g25424.t1</td>\n",
       "      <td>g25644.t1</td>\n",
       "      <td>2.000000e-113</td>\n",
       "      <td>0.160230</td>\n",
       "      <td>0.135890</td>\n",
       "      <td>scaffold-60</td>\n",
       "      <td>scaffold-60</td>\n",
       "      <td>34947</td>\n",
       "    </tr>\n",
       "    <tr>\n",
       "      <th>431</th>\n",
       "      <td>431- 13:</td>\n",
       "      <td>g25426.t1</td>\n",
       "      <td>g25645.t1</td>\n",
       "      <td>0.000000e+00</td>\n",
       "      <td>0.004598</td>\n",
       "      <td>0.021184</td>\n",
       "      <td>scaffold-60</td>\n",
       "      <td>scaffold-60</td>\n",
       "      <td>41841</td>\n",
       "    </tr>\n",
       "    <tr>\n",
       "      <th>431</th>\n",
       "      <td>431- 14:</td>\n",
       "      <td>g25427.t1</td>\n",
       "      <td>g25646.t1</td>\n",
       "      <td>1.000000e-88</td>\n",
       "      <td>0.038708</td>\n",
       "      <td>0.107433</td>\n",
       "      <td>scaffold-60</td>\n",
       "      <td>scaffold-60</td>\n",
       "      <td>44015</td>\n",
       "    </tr>\n",
       "    <tr>\n",
       "      <th>431</th>\n",
       "      <td>431- 15:</td>\n",
       "      <td>g25428.t1</td>\n",
       "      <td>g25647.t1</td>\n",
       "      <td>3.000000e-162</td>\n",
       "      <td>0.027603</td>\n",
       "      <td>0.030255</td>\n",
       "      <td>scaffold-60</td>\n",
       "      <td>scaffold-60</td>\n",
       "      <td>45042</td>\n",
       "    </tr>\n",
       "    <tr>\n",
       "      <th>431</th>\n",
       "      <td>431- 16:</td>\n",
       "      <td>g25429.t1</td>\n",
       "      <td>g25648.t1</td>\n",
       "      <td>8.000000e-54</td>\n",
       "      <td>0.251729</td>\n",
       "      <td>0.171261</td>\n",
       "      <td>scaffold-60</td>\n",
       "      <td>scaffold-60</td>\n",
       "      <td>48266</td>\n",
       "    </tr>\n",
       "    <tr>\n",
       "      <th>431</th>\n",
       "      <td>431- 17:</td>\n",
       "      <td>g25430.t1</td>\n",
       "      <td>g25649.t1</td>\n",
       "      <td>0.000000e+00</td>\n",
       "      <td>0.005819</td>\n",
       "      <td>0.039336</td>\n",
       "      <td>scaffold-60</td>\n",
       "      <td>scaffold-60</td>\n",
       "      <td>50184</td>\n",
       "    </tr>\n",
       "    <tr>\n",
       "      <th>431</th>\n",
       "      <td>431- 18:</td>\n",
       "      <td>g25431.t1</td>\n",
       "      <td>g25650.t1</td>\n",
       "      <td>0.000000e+00</td>\n",
       "      <td>0.009587</td>\n",
       "      <td>0.045160</td>\n",
       "      <td>scaffold-60</td>\n",
       "      <td>scaffold-60</td>\n",
       "      <td>53573</td>\n",
       "    </tr>\n",
       "    <tr>\n",
       "      <th>431</th>\n",
       "      <td>431- 19:</td>\n",
       "      <td>g25432.t1</td>\n",
       "      <td>g25651.t1</td>\n",
       "      <td>7.000000e-140</td>\n",
       "      <td>0.052423</td>\n",
       "      <td>0.061259</td>\n",
       "      <td>scaffold-60</td>\n",
       "      <td>scaffold-60</td>\n",
       "      <td>55466</td>\n",
       "    </tr>\n",
       "    <tr>\n",
       "      <th>431</th>\n",
       "      <td>431- 20:</td>\n",
       "      <td>g25434.t1</td>\n",
       "      <td>g25652.t1</td>\n",
       "      <td>6.000000e-81</td>\n",
       "      <td>0.000000</td>\n",
       "      <td>0.006525</td>\n",
       "      <td>scaffold-60</td>\n",
       "      <td>scaffold-60</td>\n",
       "      <td>57865</td>\n",
       "    </tr>\n",
       "    <tr>\n",
       "      <th>431</th>\n",
       "      <td>431- 21:</td>\n",
       "      <td>g25439.t1</td>\n",
       "      <td>g25653.t1</td>\n",
       "      <td>8.000000e-119</td>\n",
       "      <td>0.001207</td>\n",
       "      <td>0.020555</td>\n",
       "      <td>scaffold-60</td>\n",
       "      <td>scaffold-60</td>\n",
       "      <td>71161</td>\n",
       "    </tr>\n",
       "    <tr>\n",
       "      <th>431</th>\n",
       "      <td>431- 22:</td>\n",
       "      <td>g25444.t1</td>\n",
       "      <td>g25659.t1</td>\n",
       "      <td>0.000000e+00</td>\n",
       "      <td>0.089133</td>\n",
       "      <td>0.059021</td>\n",
       "      <td>scaffold-60</td>\n",
       "      <td>scaffold-60</td>\n",
       "      <td>94163</td>\n",
       "    </tr>\n",
       "  </tbody>\n",
       "</table>\n",
       "</div>"
      ],
      "text/plain": [
       "            0          1          2              3        ka        ks  \\\n",
       "SB                                                                       \n",
       "431  431-  0:  g25412.t1  g25627.t1   0.000000e+00  0.028294  0.049740   \n",
       "431  431-  1:  g25413.t1  g25628.t1   0.000000e+00  0.038670  0.058557   \n",
       "431  431-  2:  g25414.t1  g25630.t1   6.000000e-86  0.068212  0.127253   \n",
       "431  431-  3:  g25415.t1  g25631.t1  4.000000e-142  0.024329  0.030004   \n",
       "431  431-  4:  g25416.t1  g25632.t1   0.000000e+00  0.040982  0.079939   \n",
       "431  431-  5:  g25417.t1  g25636.t1   0.000000e+00  0.004122  0.042565   \n",
       "431  431-  6:  g25418.t1  g25637.t1   2.000000e-58  0.115132  0.213222   \n",
       "431  431-  7:  g25419.t1  g25638.t1   0.000000e+00  0.006094  0.074922   \n",
       "431  431-  8:  g25420.t1  g25639.t1   4.000000e-93  0.000000  0.011811   \n",
       "431  431-  9:  g25421.t1  g25640.t1  5.000000e-124  0.000000  0.000000   \n",
       "431  431- 10:  g25422.t1  g25642.t1  5.000000e-166  0.014608  0.016950   \n",
       "431  431- 11:  g25423.t1  g25643.t1   4.000000e-63  0.000000  0.000000   \n",
       "431  431- 12:  g25424.t1  g25644.t1  2.000000e-113  0.160230  0.135890   \n",
       "431  431- 13:  g25426.t1  g25645.t1   0.000000e+00  0.004598  0.021184   \n",
       "431  431- 14:  g25427.t1  g25646.t1   1.000000e-88  0.038708  0.107433   \n",
       "431  431- 15:  g25428.t1  g25647.t1  3.000000e-162  0.027603  0.030255   \n",
       "431  431- 16:  g25429.t1  g25648.t1   8.000000e-54  0.251729  0.171261   \n",
       "431  431- 17:  g25430.t1  g25649.t1   0.000000e+00  0.005819  0.039336   \n",
       "431  431- 18:  g25431.t1  g25650.t1   0.000000e+00  0.009587  0.045160   \n",
       "431  431- 19:  g25432.t1  g25651.t1  7.000000e-140  0.052423  0.061259   \n",
       "431  431- 20:  g25434.t1  g25652.t1   6.000000e-81  0.000000  0.006525   \n",
       "431  431- 21:  g25439.t1  g25653.t1  8.000000e-119  0.001207  0.020555   \n",
       "431  431- 22:  g25444.t1  g25659.t1   0.000000e+00  0.089133  0.059021   \n",
       "\n",
       "           A.chr        B.chr    pos  \n",
       "SB                                    \n",
       "431  scaffold-60  scaffold-60   1923  \n",
       "431  scaffold-60  scaffold-60   4991  \n",
       "431  scaffold-60  scaffold-60   8088  \n",
       "431  scaffold-60  scaffold-60  10563  \n",
       "431  scaffold-60  scaffold-60  13518  \n",
       "431  scaffold-60  scaffold-60  17060  \n",
       "431  scaffold-60  scaffold-60  20107  \n",
       "431  scaffold-60  scaffold-60  23762  \n",
       "431  scaffold-60  scaffold-60  26714  \n",
       "431  scaffold-60  scaffold-60  28625  \n",
       "431  scaffold-60  scaffold-60  30433  \n",
       "431  scaffold-60  scaffold-60  33219  \n",
       "431  scaffold-60  scaffold-60  34947  \n",
       "431  scaffold-60  scaffold-60  41841  \n",
       "431  scaffold-60  scaffold-60  44015  \n",
       "431  scaffold-60  scaffold-60  45042  \n",
       "431  scaffold-60  scaffold-60  48266  \n",
       "431  scaffold-60  scaffold-60  50184  \n",
       "431  scaffold-60  scaffold-60  53573  \n",
       "431  scaffold-60  scaffold-60  55466  \n",
       "431  scaffold-60  scaffold-60  57865  \n",
       "431  scaffold-60  scaffold-60  71161  \n",
       "431  scaffold-60  scaffold-60  94163  "
      ]
     },
     "execution_count": 122,
     "metadata": {},
     "output_type": "execute_result"
    }
   ],
   "source": [
    "df_kaks_sbix.loc['431']"
   ]
  },
  {
   "cell_type": "code",
   "execution_count": 81,
   "metadata": {
    "collapsed": false
   },
   "outputs": [
    {
     "data": {
      "image/png": "[encoded data removed]",
      "text/plain": [
       "<matplotlib.figure.Figure at 0x7f68a2210550>"
      ]
     },
     "metadata": {},
     "output_type": "display_data"
    }
   ],
   "source": [
    "matplotlib.style.use('bmh')\n",
    "#echr = '000430F-pilon'\n",
    "echr = 'scaffold-20'\n",
    "fig,ax = plt.subplots(1,figsize=(15,2))\n",
    "mask = df_kaks['B.chr'] == echr\n",
    "edf  = df_kaks[mask]\n",
    "done = []\n",
    "for ix in edf.index:\n",
    "    if edf.loc[ix]['A.chr'] == edf.loc[ix]['B.chr']:\n",
    "        pos_a = edf.loc[ix]['posA']\n",
    "        pos_b = edf.loc[ix]['posB']\n",
    "        pos_m = (pos_a + pos_b)/2 \n",
    "        ks    = edf.loc[ix]['ks']\n",
    "        sb    = edf.loc[ix]['SB']\n",
    "        y = [0,ks,0]\n",
    "        ax.plot([pos_a,pos_m,pos_b],y,linewidth=0.5)\n",
    "        if ks < 0.05:\n",
    "            if sb not in set(done):\n",
    "                ax.text(pos_m,ks,'%s,%s,%0.2f'%(sb,echr,ks),rotation=25,ha='left',va='bottom')\n",
    "                done.append(sb)\n",
    "#ax.set_xlim(0,1000000)\n",
    "\n"
   ]
  },
  {
   "cell_type": "code",
   "execution_count": 91,
   "metadata": {
    "collapsed": false
   },
   "outputs": [
    {
     "data": {
      "text/plain": [
       "'0.017'"
      ]
     },
     "execution_count": 91,
     "metadata": {},
     "output_type": "execute_result"
    }
   ],
   "source": [
    "'%0.3f'%np.mean(df_kaks_sbix.xs('337')['ks'])"
   ]
  },
  {
   "cell_type": "code",
   "execution_count": null,
   "metadata": {
    "collapsed": true
   },
   "outputs": [],
   "source": []
  }
 ],
 "metadata": {
  "kernelspec": {
   "display_name": "Python 2",
   "language": "python",
   "name": "python2"
  },
  "language_info": {
   "codemirror_mode": {
    "name": "ipython",
    "version": 2
   },
   "file_extension": ".py",
   "mimetype": "text/x-python",
   "name": "python",
   "nbconvert_exporter": "python",
   "pygments_lexer": "ipython2",
   "version": "2.7.6"
  }
 },
 "nbformat": 4,
 "nbformat_minor": 1
}
