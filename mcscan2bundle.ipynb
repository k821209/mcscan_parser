{
 "cells": [
  {
   "cell_type": "code",
   "execution_count": 1,
   "metadata": {
    "collapsed": true
   },
   "outputs": [],
   "source": [
    "from __future__ import print_function\n",
    "import pandas as pd \n",
    "import numpy as np\n",
    "import sys\n",
    "sys.path.append('/storage/pipelines/')\n",
    "import kang"
   ]
  },
  {
   "cell_type": "code",
   "execution_count": 2,
   "metadata": {
    "collapsed": true
   },
   "outputs": [],
   "source": [
    "df_gff = pd.read_csv('../Ah2Ah.gff',sep='\\t',header=None)"
   ]
  },
  {
   "cell_type": "code",
   "execution_count": 3,
   "metadata": {
    "collapsed": false
   },
   "outputs": [],
   "source": [
    "df_gff_ix = df_gff.set_index(1)"
   ]
  },
  {
   "cell_type": "code",
   "execution_count": 4,
   "metadata": {
    "collapsed": false
   },
   "outputs": [
    {
     "data": {
      "text/html": [
       "<div>\n",
       "<table border=\"1\" class=\"dataframe\">\n",
       "  <thead>\n",
       "    <tr style=\"text-align: right;\">\n",
       "      <th></th>\n",
       "      <th>0</th>\n",
       "      <th>2</th>\n",
       "      <th>3</th>\n",
       "    </tr>\n",
       "    <tr>\n",
       "      <th>1</th>\n",
       "      <th></th>\n",
       "      <th></th>\n",
       "      <th></th>\n",
       "    </tr>\n",
       "  </thead>\n",
       "  <tbody>\n",
       "    <tr>\n",
       "      <th>mRNA1</th>\n",
       "      <td>scaffold-399</td>\n",
       "      <td>111</td>\n",
       "      <td>394</td>\n",
       "    </tr>\n",
       "    <tr>\n",
       "      <th>mRNA2</th>\n",
       "      <td>scaffold-399</td>\n",
       "      <td>752</td>\n",
       "      <td>1880</td>\n",
       "    </tr>\n",
       "    <tr>\n",
       "      <th>mRNA3</th>\n",
       "      <td>scaffold-399</td>\n",
       "      <td>752</td>\n",
       "      <td>2740</td>\n",
       "    </tr>\n",
       "    <tr>\n",
       "      <th>mRNA4</th>\n",
       "      <td>scaffold-399</td>\n",
       "      <td>909</td>\n",
       "      <td>1421</td>\n",
       "    </tr>\n",
       "    <tr>\n",
       "      <th>mRNA5</th>\n",
       "      <td>scaffold-399</td>\n",
       "      <td>1805</td>\n",
       "      <td>2740</td>\n",
       "    </tr>\n",
       "  </tbody>\n",
       "</table>\n",
       "</div>"
      ],
      "text/plain": [
       "                  0     2     3\n",
       "1                              \n",
       "mRNA1  scaffold-399   111   394\n",
       "mRNA2  scaffold-399   752  1880\n",
       "mRNA3  scaffold-399   752  2740\n",
       "mRNA4  scaffold-399   909  1421\n",
       "mRNA5  scaffold-399  1805  2740"
      ]
     },
     "execution_count": 4,
     "metadata": {},
     "output_type": "execute_result"
    }
   ],
   "source": [
    "df_gff_ix.head()"
   ]
  },
  {
   "cell_type": "code",
   "execution_count": 5,
   "metadata": {
    "collapsed": true
   },
   "outputs": [],
   "source": [
    "df_kaks = pd.read_csv('./Ah2Ah.collinearity.kaks',comment='#',sep='\\t',header=None)"
   ]
  },
  {
   "cell_type": "code",
   "execution_count": 6,
   "metadata": {
    "collapsed": false
   },
   "outputs": [],
   "source": [
    "df_kaks['SB'] = df_kaks[0].apply(lambda x: x.split('-')[0].strip())"
   ]
  },
  {
   "cell_type": "code",
   "execution_count": 7,
   "metadata": {
    "collapsed": false
   },
   "outputs": [],
   "source": [
    "df_kaks['ChrA'] = df_kaks[1].apply(lambda x : df_gff_ix.xs(x)[0])\n",
    "df_kaks['PosA'] = df_kaks[1].apply(lambda x : df_gff_ix.xs(x)[2])\n",
    "df_kaks['ChrB'] = df_kaks[2].apply(lambda x : df_gff_ix.xs(x)[0])\n",
    "df_kaks['PosB'] = df_kaks[2].apply(lambda x : df_gff_ix.xs(x)[2])"
   ]
  },
  {
   "cell_type": "code",
   "execution_count": 13,
   "metadata": {
    "collapsed": false
   },
   "outputs": [
    {
     "data": {
      "text/html": [
       "<div>\n",
       "<table border=\"1\" class=\"dataframe\">\n",
       "  <thead>\n",
       "    <tr style=\"text-align: right;\">\n",
       "      <th></th>\n",
       "      <th>0</th>\n",
       "      <th>1</th>\n",
       "      <th>2</th>\n",
       "      <th>3</th>\n",
       "      <th>4</th>\n",
       "      <th>5</th>\n",
       "      <th>ChrA</th>\n",
       "      <th>PosA</th>\n",
       "      <th>ChrB</th>\n",
       "      <th>PosB</th>\n",
       "    </tr>\n",
       "    <tr>\n",
       "      <th>SB</th>\n",
       "      <th></th>\n",
       "      <th></th>\n",
       "      <th></th>\n",
       "      <th></th>\n",
       "      <th></th>\n",
       "      <th></th>\n",
       "      <th></th>\n",
       "      <th></th>\n",
       "      <th></th>\n",
       "      <th></th>\n",
       "    </tr>\n",
       "  </thead>\n",
       "  <tbody>\n",
       "    <tr>\n",
       "      <th>251</th>\n",
       "      <td>251-  0:</td>\n",
       "      <td>mRNA49911</td>\n",
       "      <td>mRNA33386</td>\n",
       "      <td>2.000000e-18</td>\n",
       "      <td>0.000000</td>\n",
       "      <td>0.000000</td>\n",
       "      <td>scaffold-20</td>\n",
       "      <td>2589779</td>\n",
       "      <td>scaffold-874</td>\n",
       "      <td>110</td>\n",
       "    </tr>\n",
       "    <tr>\n",
       "      <th>251</th>\n",
       "      <td>251-  1:</td>\n",
       "      <td>mRNA49913</td>\n",
       "      <td>mRNA33387</td>\n",
       "      <td>1.000000e-152</td>\n",
       "      <td>0.000000</td>\n",
       "      <td>0.000000</td>\n",
       "      <td>scaffold-20</td>\n",
       "      <td>2593071</td>\n",
       "      <td>scaffold-874</td>\n",
       "      <td>1568</td>\n",
       "    </tr>\n",
       "    <tr>\n",
       "      <th>251</th>\n",
       "      <td>251-  2:</td>\n",
       "      <td>mRNA49915</td>\n",
       "      <td>mRNA33389</td>\n",
       "      <td>2.000000e-103</td>\n",
       "      <td>0.004215</td>\n",
       "      <td>0.008299</td>\n",
       "      <td>scaffold-20</td>\n",
       "      <td>2594837</td>\n",
       "      <td>scaffold-874</td>\n",
       "      <td>3345</td>\n",
       "    </tr>\n",
       "    <tr>\n",
       "      <th>251</th>\n",
       "      <td>251-  3:</td>\n",
       "      <td>mRNA49918</td>\n",
       "      <td>mRNA33391</td>\n",
       "      <td>2.000000e-84</td>\n",
       "      <td>0.000000</td>\n",
       "      <td>0.020444</td>\n",
       "      <td>scaffold-20</td>\n",
       "      <td>2603386</td>\n",
       "      <td>scaffold-874</td>\n",
       "      <td>12978</td>\n",
       "    </tr>\n",
       "    <tr>\n",
       "      <th>251</th>\n",
       "      <td>251-  4:</td>\n",
       "      <td>mRNA49919</td>\n",
       "      <td>mRNA33392</td>\n",
       "      <td>0.000000e+00</td>\n",
       "      <td>0.001747</td>\n",
       "      <td>0.002588</td>\n",
       "      <td>scaffold-20</td>\n",
       "      <td>2605373</td>\n",
       "      <td>scaffold-874</td>\n",
       "      <td>13522</td>\n",
       "    </tr>\n",
       "    <tr>\n",
       "      <th>251</th>\n",
       "      <td>251-  5:</td>\n",
       "      <td>mRNA49920</td>\n",
       "      <td>mRNA33393</td>\n",
       "      <td>0.000000e+00</td>\n",
       "      <td>0.002808</td>\n",
       "      <td>0.023458</td>\n",
       "      <td>scaffold-20</td>\n",
       "      <td>2606547</td>\n",
       "      <td>scaffold-874</td>\n",
       "      <td>16147</td>\n",
       "    </tr>\n",
       "    <tr>\n",
       "      <th>251</th>\n",
       "      <td>251-  6:</td>\n",
       "      <td>mRNA49922</td>\n",
       "      <td>mRNA33395</td>\n",
       "      <td>0.000000e+00</td>\n",
       "      <td>0.103595</td>\n",
       "      <td>0.071433</td>\n",
       "      <td>scaffold-20</td>\n",
       "      <td>2611157</td>\n",
       "      <td>scaffold-874</td>\n",
       "      <td>19594</td>\n",
       "    </tr>\n",
       "    <tr>\n",
       "      <th>251</th>\n",
       "      <td>251-  7:</td>\n",
       "      <td>mRNA49925</td>\n",
       "      <td>mRNA33402</td>\n",
       "      <td>5.000000e-170</td>\n",
       "      <td>0.001732</td>\n",
       "      <td>0.000000</td>\n",
       "      <td>scaffold-20</td>\n",
       "      <td>2615941</td>\n",
       "      <td>scaffold-874</td>\n",
       "      <td>23454</td>\n",
       "    </tr>\n",
       "  </tbody>\n",
       "</table>\n",
       "</div>"
      ],
      "text/plain": [
       "            0          1          2              3         4         5  \\\n",
       "SB                                                                       \n",
       "251  251-  0:  mRNA49911  mRNA33386   2.000000e-18  0.000000  0.000000   \n",
       "251  251-  1:  mRNA49913  mRNA33387  1.000000e-152  0.000000  0.000000   \n",
       "251  251-  2:  mRNA49915  mRNA33389  2.000000e-103  0.004215  0.008299   \n",
       "251  251-  3:  mRNA49918  mRNA33391   2.000000e-84  0.000000  0.020444   \n",
       "251  251-  4:  mRNA49919  mRNA33392   0.000000e+00  0.001747  0.002588   \n",
       "251  251-  5:  mRNA49920  mRNA33393   0.000000e+00  0.002808  0.023458   \n",
       "251  251-  6:  mRNA49922  mRNA33395   0.000000e+00  0.103595  0.071433   \n",
       "251  251-  7:  mRNA49925  mRNA33402  5.000000e-170  0.001732  0.000000   \n",
       "\n",
       "            ChrA     PosA          ChrB   PosB  \n",
       "SB                                              \n",
       "251  scaffold-20  2589779  scaffold-874    110  \n",
       "251  scaffold-20  2593071  scaffold-874   1568  \n",
       "251  scaffold-20  2594837  scaffold-874   3345  \n",
       "251  scaffold-20  2603386  scaffold-874  12978  \n",
       "251  scaffold-20  2605373  scaffold-874  13522  \n",
       "251  scaffold-20  2606547  scaffold-874  16147  \n",
       "251  scaffold-20  2611157  scaffold-874  19594  \n",
       "251  scaffold-20  2615941  scaffold-874  23454  "
      ]
     },
     "execution_count": 13,
     "metadata": {},
     "output_type": "execute_result"
    }
   ],
   "source": [
    "df_kaks_ix.xs('251')"
   ]
  },
  {
   "cell_type": "code",
   "execution_count": 9,
   "metadata": {
    "collapsed": true
   },
   "outputs": [],
   "source": [
    "df_kaks_ix = df_kaks.set_index('SB')"
   ]
  },
  {
   "cell_type": "code",
   "execution_count": 10,
   "metadata": {
    "collapsed": false
   },
   "outputs": [],
   "source": [
    "with open('bundle.txt','w') as f:\n",
    "    for ix in set(df_kaks_ix.index):\n",
    "        edf = df_kaks_ix.xs(ix)\n",
    "        chr_a = edf['ChrA'][0]\n",
    "        chr_b = edf['ChrB'][0]\n",
    "        pos_a_min = np.min(edf['PosA'])\n",
    "        pos_a_max = np.max(edf['PosA'])\n",
    "        pos_b_min = np.min(edf['PosB'])\n",
    "        pos_b_max = np.max(edf['PosB'])\n",
    "        ks = np.mean(edf[5])\n",
    "        if ks < 0.1:\n",
    "            print(ix, chr_a, pos_a_min, pos_a_max, 'color=red',file=f,sep='\\t')\n",
    "            print(ix, chr_b, pos_b_min, pos_b_max, 'color=red',file=f,sep='\\t')\n",
    "        else:\n",
    "            print(ix, chr_a, pos_a_min, pos_a_max, 'color=gray',file=f,sep='\\t')\n",
    "            print(ix, chr_b, pos_b_min, pos_b_max, 'color=gray',file=f,sep='\\t')"
   ]
  },
  {
   "cell_type": "code",
   "execution_count": null,
   "metadata": {
    "collapsed": true
   },
   "outputs": [],
   "source": [
    "file_fa = '/storage/References/Aha/Ahal.assembly.scf.fasta'"
   ]
  },
  {
   "cell_type": "code",
   "execution_count": null,
   "metadata": {
    "collapsed": true
   },
   "outputs": [],
   "source": [
    "dicfa = kang.Fasta2dic(file_fa)"
   ]
  },
  {
   "cell_type": "code",
   "execution_count": null,
   "metadata": {
    "collapsed": false
   },
   "outputs": [],
   "source": [
    "with open('karyotype.aha.txt','w') as f:\n",
    "    for key in dicfa:\n",
    "        print('chr - %s %s 0 %d black'%(key,key,len(dicfa[key])),file=f)"
   ]
  },
  {
   "cell_type": "code",
   "execution_count": null,
   "metadata": {
    "collapsed": true
   },
   "outputs": [],
   "source": []
  }
 ],
 "metadata": {
  "kernelspec": {
   "display_name": "Python 2",
   "language": "python",
   "name": "python2"
  },
  "language_info": {
   "codemirror_mode": {
    "name": "ipython",
    "version": 2
   },
   "file_extension": ".py",
   "mimetype": "text/x-python",
   "name": "python",
   "nbconvert_exporter": "python",
   "pygments_lexer": "ipython2",
   "version": "2.7.6"
  }
 },
 "nbformat": 4,
 "nbformat_minor": 1
}
